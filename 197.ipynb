{
 "cells": [
  {
   "cell_type": "markdown",
   "id": "b1815751",
   "metadata": {},
   "source": [
    "_**Import PKGs**_"
   ]
  },
  {
   "cell_type": "code",
   "execution_count": null,
   "id": "69872561",
   "metadata": {},
   "outputs": [],
   "source": [
    "import gmso \n",
    "import random\n",
    "import numpy as np\n",
    "import mbuild as mb\n",
    "from gmso.core.forcefield import ForceField\n",
    "from gmso.external import from_mbuild\n",
    "from gmso.parameterization import apply\n",
    "from mbuild.lib.recipes.polymer import Polymer\n",
    "from rdkit.Chem import Draw\n",
    "from IPython.display import display"
   ]
  },
  {
   "cell_type": "markdown",
   "id": "9eb0997b",
   "metadata": {},
   "source": [
    "_**Build the Structure of Repeat Unit**_"
   ]
  },
  {
   "cell_type": "code",
   "execution_count": null,
   "id": "a5f5de78",
   "metadata": {},
   "outputs": [],
   "source": [
    "comp = mb.load('[H]Cc1ccc(COC(=O)Cc2ccc(C(=O)O[H])cc2)cc1', smiles=True) \n",
    "comp.visualize()\n"
   ]
  },
  {
   "cell_type": "code",
   "execution_count": null,
   "id": "429f00fa",
   "metadata": {},
   "outputs": [],
   "source": [
    "comp.save('comp.pdb')"
   ]
  },
  {
   "cell_type": "markdown",
   "id": "bb57d9dc",
   "metadata": {},
   "source": [
    "_**Apply the Force Field to the Repeat Unit Mol**_"
   ]
  },
  {
   "cell_type": "code",
   "execution_count": null,
   "id": "2e92d9fd",
   "metadata": {},
   "outputs": [],
   "source": [
    "gmso_oplsaa = ForceField(\"oplsaa.xml\")\n",
    "gmso_topology = from_mbuild(comp)\n",
    "apply(top=gmso_topology, forcefields=gmso_oplsaa, identify_connections=True) "
   ]
  },
  {
   "cell_type": "markdown",
   "id": "b284c243",
   "metadata": {},
   "source": [
    "_**Check the missing types**_"
   ]
  },
  {
   "cell_type": "code",
   "execution_count": null,
   "id": "5bd5fafc",
   "metadata": {},
   "outputs": [],
   "source": [
    "#ignore the missing types\n",
    "gmso_oplsaa = ForceField(\"oplsaa.xml\")\n",
    "gmso_topology = from_mbuild(comp)\n",
    "apply(top=gmso_topology, forcefields=gmso_oplsaa, identify_connections=True, ignore_params=[ \"dihedrals\", \"impropers\"], remove_untyped=False)"
   ]
  },
  {
   "cell_type": "code",
   "execution_count": null,
   "id": "5a7cdec6",
   "metadata": {},
   "outputs": [],
   "source": [
    "#check dihedral types\n",
    "for dihedral in gmso_topology.dihedrals:\n",
    "    print(dihedral.dihedral_type)"
   ]
  },
  {
   "cell_type": "code",
   "execution_count": null,
   "id": "1f79a107",
   "metadata": {},
   "outputs": [],
   "source": [
    "for dihedral in gmso_topology.dihedrals:\n",
    "    if dihedral.dihedral_type is None:\n",
    "        atom_types = [a.atom_type.name for a in dihedral.connection_members]\n",
    "        atom_classes = [a.atom_type.atomclass for a in dihedral.connection_members]\n",
    "        print(atom_types)\n",
    "        print(atom_classes)\n",
    "        print()"
   ]
  },
  {
   "cell_type": "code",
   "execution_count": null,
   "id": "113e2994",
   "metadata": {},
   "outputs": [],
   "source": [
    "#check improper types\n",
    "for improper in gmso_topology.impropers:\n",
    "    print(improper.improper_type)"
   ]
  },
  {
   "cell_type": "code",
   "execution_count": null,
   "id": "79a0afd7",
   "metadata": {},
   "outputs": [],
   "source": [
    "for improper in gmso_topology.impropers:\n",
    "    if improper.improper_type is None:\n",
    "        atom_types = [a.atom_type.name for a in improper.connection_members]\n",
    "        atom_classes = [a.atom_type.atomclass for a in improper.connection_members]\n",
    "        print(atom_types)\n",
    "        print(atom_classes)\n",
    "        print()"
   ]
  },
  {
   "cell_type": "markdown",
   "id": "0b744f74",
   "metadata": {},
   "source": [
    "_**Check the Order of Atoms**_"
   ]
  },
  {
   "cell_type": "code",
   "execution_count": null,
   "id": "334242c3",
   "metadata": {},
   "outputs": [],
   "source": [
    "comp_rdkmol=comp.to_rdkit()\n",
    "img=Draw.MolToImage(comp_rdkmol)\n",
    "display(img)"
   ]
  },
  {
   "cell_type": "markdown",
   "id": "7ae824a2",
   "metadata": {},
   "source": [
    "_**Build the Structure of Single chain**_"
   ]
  },
  {
   "cell_type": "code",
   "execution_count": null,
   "id": "39bc35dd",
   "metadata": {},
   "outputs": [],
   "source": [
    "chain = Polymer()\n",
    "\n",
    "chain.add_monomer(compound=comp,\n",
    "                  indices=[26, 45],\n",
    "                  separation=.154,\n",
    "                  replace=True)\n",
    "chain.add_end_groups(mb.load('[H]Cc1ccc(COC(=O)Cc2ccc(C(=O)O[H])cc2)cc1',smiles=True), \n",
    "                     index=26,\n",
    "                     separation=0.154, label=\"head\", duplicate=False)\n",
    "\n",
    "chain.add_end_groups(mb.load('[H]Cc1ccc(COC(=O)Cc2ccc(C(=O)O[H])cc2)cc1',smiles=True), \n",
    "                     index=45,\n",
    "                     separation=0.154, label=\"tail\", duplicate=False)\n",
    "chain.build(n=20, sequence='A')\n",
    "chain.visualize(show_ports=True)\n"
   ]
  },
  {
   "cell_type": "code",
   "execution_count": null,
   "id": "67b90808",
   "metadata": {},
   "outputs": [],
   "source": [
    "chain.save('chain.pdb')"
   ]
  },
  {
   "cell_type": "markdown",
   "id": "d4b5a4df",
   "metadata": {},
   "source": [
    "_**Apply the Force Field to the Single Chain**_"
   ]
  },
  {
   "cell_type": "code",
   "execution_count": null,
   "metadata": {},
   "outputs": [],
   "source": [
    "gmso_oplsaa = ForceField(\"oplsaa.xml\")\n",
    "gmso_topology = from_mbuild(chain)\n",
    "apply(top=gmso_topology, forcefields=gmso_oplsaa, identify_connections=True) "
   ]
  },
  {
   "cell_type": "markdown",
   "id": "37995e00",
   "metadata": {},
   "source": [
    "_**Build the Structure of System Containing Several Chains**_"
   ]
  },
  {
   "cell_type": "code",
   "execution_count": null,
   "id": "6c1d941b",
   "metadata": {},
   "outputs": [],
   "source": [
    "# the pattern we generate puts points in the xy-plane, so we'll rotate the polymer\n",
    "# so that it is oriented normal to the xy-plane\n",
    "chain.rotate(np.pi/2, [1, 0, 0])\n",
    "\n",
    "# define a compound to hold all the polymers\n",
    "system = mb.Compound()\n",
    "\n",
    "# create a pattern of points to fill a disk\n",
    "# patterns are generated between 0 and 1,\n",
    "# and thus need to be scaled to provide appropriate spacing\n",
    "pattern_disk = mb.DiskPattern(50)\n",
    "pattern_disk.scale(5)\n",
    "\n",
    "# now clone the polymer and move it to the points in the pattern\n",
    "for pos in pattern_disk:\n",
    "    current_polymer = mb.clone(chain)\n",
    "    current_polymer.translate(pos)\n",
    "    system.add(current_polymer)\n",
    "\n",
    "system.visualize()\n"
   ]
  },
  {
   "cell_type": "code",
   "execution_count": null,
   "id": "34249385",
   "metadata": {},
   "outputs": [],
   "source": [
    "system.save('system.pdb')"
   ]
  },
  {
   "cell_type": "markdown",
   "id": "ee0cb20b",
   "metadata": {},
   "source": [
    "_**Apply the Force Field to the System**_"
   ]
  },
  {
   "cell_type": "code",
   "execution_count": null,
   "id": "f2a49bea",
   "metadata": {},
   "outputs": [],
   "source": [
    "gmso_oplsaa = ForceField(\"oplsaa.xml\")\n",
    "gmso_topology = from_mbuild(system)\n",
    "apply(top=gmso_topology, forcefields=gmso_oplsaa, identify_connections=True) "
   ]
  }
 ],
 "metadata": {
  "kernelspec": {
   "display_name": "mbuild_env",
   "language": "python",
   "name": "python3"
  },
  "language_info": {
   "codemirror_mode": {
    "name": "ipython",
    "version": 3
   },
   "file_extension": ".py",
   "mimetype": "text/x-python",
   "name": "python",
   "nbconvert_exporter": "python",
   "pygments_lexer": "ipython3",
   "version": "3.12.0"
  }
 },
 "nbformat": 4,
 "nbformat_minor": 5
}
