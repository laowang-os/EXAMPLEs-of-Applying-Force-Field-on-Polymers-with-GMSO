{
 "cells": [
  {
   "cell_type": "markdown",
   "id": "3ff159f8",
   "metadata": {},
   "source": [
    "_**Import PKGs**_"
   ]
  },
  {
   "cell_type": "code",
   "execution_count": 2,
   "id": "69872561",
   "metadata": {},
   "outputs": [],
   "source": [
    "import gmso \n",
    "import random\n",
    "import numpy as np\n",
    "import mbuild as mb\n",
    "from gmso.core.forcefield import ForceField\n",
    "from gmso.external import from_mbuild\n",
    "from gmso.parameterization import apply\n",
    "from mbuild.lib.recipes.polymer import Polymer\n",
    "from rdkit.Chem import Draw\n",
    "from IPython.display import display"
   ]
  },
  {
   "cell_type": "markdown",
   "id": "ecc8a353",
   "metadata": {},
   "source": [
    "_**Build the Structure of Repeat Unit**_"
   ]
  },
  {
   "cell_type": "code",
   "execution_count": 3,
   "id": "a5f5de78",
   "metadata": {},
   "outputs": [
    {
     "name": "stderr",
     "output_type": "stream",
     "text": [
      "d:\\programdata\\anaconda3\\envs\\mbuild_env\\Lib\\site-packages\\mbuild\\compound.py:546: UserWarning: Some particle of <Compound 37 particles, 38 bonds, non-periodic, id: 1157106246496> does not have a charge.They will not be accounted for during this calculation.\n",
      "  warn(\n"
     ]
    },
    {
     "data": {
      "application/3dmoljs_load.v0": "<div id=\"3dmolviewer_17546375176415815\"  style=\"position: relative; width: 640px; height: 480px;\">\n        <p id=\"3dmolwarning_17546375176415815\" style=\"background-color:#ffcccc;color:black\">3Dmol.js failed to load for some reason.  Please check your browser console for error messages.<br></p>\n        </div>\n<script>\n\nvar loadScriptAsync = function(uri){\n  return new Promise((resolve, reject) => {\n    //this is to ignore the existence of requirejs amd\n    var savedexports, savedmodule;\n    if (typeof exports !== 'undefined') savedexports = exports;\n    else exports = {}\n    if (typeof module !== 'undefined') savedmodule = module;\n    else module = {}\n\n    var tag = document.createElement('script');\n    tag.src = uri;\n    tag.async = true;\n    tag.onload = () => {\n        exports = savedexports;\n        module = savedmodule;\n        resolve();\n    };\n  var firstScriptTag = document.getElementsByTagName('script')[0];\n  firstScriptTag.parentNode.insertBefore(tag, firstScriptTag);\n});\n};\n\nif(typeof $3Dmolpromise === 'undefined') {\n$3Dmolpromise = null;\n  $3Dmolpromise = loadScriptAsync('https://cdn.jsdelivr.net/npm/3dmol@2.5.1/build/3Dmol-min.js');\n}\n\nvar viewer_17546375176415815 = null;\nvar warn = document.getElementById(\"3dmolwarning_17546375176415815\");\nif(warn) {\n    warn.parentNode.removeChild(warn);\n}\n$3Dmolpromise.then(function() {\nviewer_17546375176415815 = $3Dmol.createViewer(document.getElementById(\"3dmolviewer_17546375176415815\"),{backgroundColor:\"white\"});\nviewer_17546375176415815.zoomTo();\n\tviewer_17546375176415815.addModel(\"@<TRIPOS>MOLECULE\\nRES\\n37 38 1 0 1\\nSMALL\\nNO_CHARGES\\n@<TRIPOS>CRYSIN\\n   17.4152     9.4080    11.7504    90.0000    90.0000    90.0000 1 1\\n@<TRIPOS>ATOM\\n       1 C            5.2829     0.0382    -2.4643 C             1 RES     \\n       2 C            4.1895    -0.1889    -1.7399 C             1 RES     \\n       3 C            4.1905    -0.1424    -0.2679 C             1 RES     \\n       4 S            5.5057     0.1729     0.7487 S             1 RES     \\n       5 C            4.6840     0.0254     2.2160 C             1 RES     \\n       6 C            3.3633    -0.2640     1.9097 C             1 RES     \\n       7 C            3.0946    -0.3751     0.5489 C             1 RES     \\n       8 O            1.8110    -0.7032     0.1107 O             1 RES     \\n       9 C            0.8351    -1.1765     1.0508 C             1 RES     \\n      10 C           -0.5806    -1.0829     0.4549 C             1 RES     \\n      11 C           -0.9647     0.3400     0.0039 C             1 RES     \\n      12 C           -2.2417     0.3645    -0.8516 C             1 RES     \\n      13 C           -3.5066     0.0526    -0.0333 C             1 RES     \\n      14 C           -4.7842     0.0950    -0.8863 C             1 RES     \\n      15 C           -5.1938     1.5166    -1.2709 C             1 RES     \\n      16 C            0.9745    -0.4392     2.4107 C             1 RES     \\n      17 O            2.3410    -0.4347     2.8438 O             1 RES     \\n      18 H            6.2332     0.2697    -2.0014 H             1 RES     \\n      19 H            5.2320    -0.0068    -3.5444 H             1 RES     \\n      20 H            3.2631    -0.4155    -2.2531 H             1 RES     \\n      21 H            5.1009     0.1513     3.2060 H             1 RES     \\n      22 H            1.0460    -2.2521     1.2421 H             1 RES     \\n      23 H           -1.3091    -1.4487     1.2096 H             1 RES     \\n      24 H           -0.6284    -1.7680    -0.4198 H             1 RES     \\n      25 H           -0.1411     0.7673    -0.6080 H             1 RES     \\n      26 H           -1.1062     0.9990     0.8865 H             1 RES     \\n      27 H           -2.1454    -0.3563    -1.6929 H             1 RES     \\n      28 H           -2.3307     1.3812    -1.2888 H             1 RES     \\n      29 H           -3.4229    -0.9703     0.3905 H             1 RES     \\n      30 H           -3.5970     0.7644     0.8163 H             1 RES     \\n      31 H           -5.6130    -0.3563    -0.2986 H             1 RES     \\n      32 H           -4.6529    -0.5173    -1.8049 H             1 RES     \\n      33 H           -4.4602     1.9629    -1.9733 H             1 RES     \\n      34 H           -6.1820     1.4909    -1.7765 H             1 RES     \\n      35 H           -5.2775     2.1559    -0.3664 H             1 RES     \\n      36 H            0.6444     0.6151     2.3109 H             1 RES     \\n      37 H            0.3466    -0.9327     3.1823 H             1 RES     \\n@<TRIPOS>BOND\\n       1        1        2 1\\n       2        1       18 1\\n       3        1       19 1\\n       4        2        3 1\\n       5        2       20 1\\n       6        3        4 1\\n       7        3        7 1\\n       8        4        5 1\\n       9        5        6 1\\n      10        5       21 1\\n      11        6        7 1\\n      12        6       17 1\\n      13        7        8 1\\n      14        8        9 1\\n      15        9       10 1\\n      16        9       16 1\\n      17        9       22 1\\n      18       10       11 1\\n      19       10       23 1\\n      20       10       24 1\\n      21       11       12 1\\n      22       11       25 1\\n      23       11       26 1\\n      24       12       13 1\\n      25       12       27 1\\n      26       12       28 1\\n      27       13       14 1\\n      28       13       29 1\\n      29       13       30 1\\n      30       14       15 1\\n      31       14       31 1\\n      32       14       32 1\\n      33       15       33 1\\n      34       15       34 1\\n      35       15       35 1\\n      36       16       17 1\\n      37       16       36 1\\n      38       16       37 1\\n@<TRIPOS>SUBSTRUCTURE\\n       1 RES             1 RESIDUE    0 **** ROOT      0\\n\",\"mol2\");\n\tviewer_17546375176415815.setStyle({\"stick\": {\"radius\": 0.18, \"color\": \"grey\"}, \"sphere\": {\"scale\": 0.3, \"colorscheme\": {}}});\n\tviewer_17546375176415815.zoomTo();\nviewer_17546375176415815.render();\n});\n</script>",
      "text/html": [
       "<div id=\"3dmolviewer_17546375176415815\"  style=\"position: relative; width: 640px; height: 480px;\">\n",
       "        <p id=\"3dmolwarning_17546375176415815\" style=\"background-color:#ffcccc;color:black\">3Dmol.js failed to load for some reason.  Please check your browser console for error messages.<br></p>\n",
       "        </div>\n",
       "<script>\n",
       "\n",
       "var loadScriptAsync = function(uri){\n",
       "  return new Promise((resolve, reject) => {\n",
       "    //this is to ignore the existence of requirejs amd\n",
       "    var savedexports, savedmodule;\n",
       "    if (typeof exports !== 'undefined') savedexports = exports;\n",
       "    else exports = {}\n",
       "    if (typeof module !== 'undefined') savedmodule = module;\n",
       "    else module = {}\n",
       "\n",
       "    var tag = document.createElement('script');\n",
       "    tag.src = uri;\n",
       "    tag.async = true;\n",
       "    tag.onload = () => {\n",
       "        exports = savedexports;\n",
       "        module = savedmodule;\n",
       "        resolve();\n",
       "    };\n",
       "  var firstScriptTag = document.getElementsByTagName('script')[0];\n",
       "  firstScriptTag.parentNode.insertBefore(tag, firstScriptTag);\n",
       "});\n",
       "};\n",
       "\n",
       "if(typeof $3Dmolpromise === 'undefined') {\n",
       "$3Dmolpromise = null;\n",
       "  $3Dmolpromise = loadScriptAsync('https://cdn.jsdelivr.net/npm/3dmol@2.5.1/build/3Dmol-min.js');\n",
       "}\n",
       "\n",
       "var viewer_17546375176415815 = null;\n",
       "var warn = document.getElementById(\"3dmolwarning_17546375176415815\");\n",
       "if(warn) {\n",
       "    warn.parentNode.removeChild(warn);\n",
       "}\n",
       "$3Dmolpromise.then(function() {\n",
       "viewer_17546375176415815 = $3Dmol.createViewer(document.getElementById(\"3dmolviewer_17546375176415815\"),{backgroundColor:\"white\"});\n",
       "viewer_17546375176415815.zoomTo();\n",
       "\tviewer_17546375176415815.addModel(\"@<TRIPOS>MOLECULE\\nRES\\n37 38 1 0 1\\nSMALL\\nNO_CHARGES\\n@<TRIPOS>CRYSIN\\n   17.4152     9.4080    11.7504    90.0000    90.0000    90.0000 1 1\\n@<TRIPOS>ATOM\\n       1 C            5.2829     0.0382    -2.4643 C             1 RES     \\n       2 C            4.1895    -0.1889    -1.7399 C             1 RES     \\n       3 C            4.1905    -0.1424    -0.2679 C             1 RES     \\n       4 S            5.5057     0.1729     0.7487 S             1 RES     \\n       5 C            4.6840     0.0254     2.2160 C             1 RES     \\n       6 C            3.3633    -0.2640     1.9097 C             1 RES     \\n       7 C            3.0946    -0.3751     0.5489 C             1 RES     \\n       8 O            1.8110    -0.7032     0.1107 O             1 RES     \\n       9 C            0.8351    -1.1765     1.0508 C             1 RES     \\n      10 C           -0.5806    -1.0829     0.4549 C             1 RES     \\n      11 C           -0.9647     0.3400     0.0039 C             1 RES     \\n      12 C           -2.2417     0.3645    -0.8516 C             1 RES     \\n      13 C           -3.5066     0.0526    -0.0333 C             1 RES     \\n      14 C           -4.7842     0.0950    -0.8863 C             1 RES     \\n      15 C           -5.1938     1.5166    -1.2709 C             1 RES     \\n      16 C            0.9745    -0.4392     2.4107 C             1 RES     \\n      17 O            2.3410    -0.4347     2.8438 O             1 RES     \\n      18 H            6.2332     0.2697    -2.0014 H             1 RES     \\n      19 H            5.2320    -0.0068    -3.5444 H             1 RES     \\n      20 H            3.2631    -0.4155    -2.2531 H             1 RES     \\n      21 H            5.1009     0.1513     3.2060 H             1 RES     \\n      22 H            1.0460    -2.2521     1.2421 H             1 RES     \\n      23 H           -1.3091    -1.4487     1.2096 H             1 RES     \\n      24 H           -0.6284    -1.7680    -0.4198 H             1 RES     \\n      25 H           -0.1411     0.7673    -0.6080 H             1 RES     \\n      26 H           -1.1062     0.9990     0.8865 H             1 RES     \\n      27 H           -2.1454    -0.3563    -1.6929 H             1 RES     \\n      28 H           -2.3307     1.3812    -1.2888 H             1 RES     \\n      29 H           -3.4229    -0.9703     0.3905 H             1 RES     \\n      30 H           -3.5970     0.7644     0.8163 H             1 RES     \\n      31 H           -5.6130    -0.3563    -0.2986 H             1 RES     \\n      32 H           -4.6529    -0.5173    -1.8049 H             1 RES     \\n      33 H           -4.4602     1.9629    -1.9733 H             1 RES     \\n      34 H           -6.1820     1.4909    -1.7765 H             1 RES     \\n      35 H           -5.2775     2.1559    -0.3664 H             1 RES     \\n      36 H            0.6444     0.6151     2.3109 H             1 RES     \\n      37 H            0.3466    -0.9327     3.1823 H             1 RES     \\n@<TRIPOS>BOND\\n       1        1        2 1\\n       2        1       18 1\\n       3        1       19 1\\n       4        2        3 1\\n       5        2       20 1\\n       6        3        4 1\\n       7        3        7 1\\n       8        4        5 1\\n       9        5        6 1\\n      10        5       21 1\\n      11        6        7 1\\n      12        6       17 1\\n      13        7        8 1\\n      14        8        9 1\\n      15        9       10 1\\n      16        9       16 1\\n      17        9       22 1\\n      18       10       11 1\\n      19       10       23 1\\n      20       10       24 1\\n      21       11       12 1\\n      22       11       25 1\\n      23       11       26 1\\n      24       12       13 1\\n      25       12       27 1\\n      26       12       28 1\\n      27       13       14 1\\n      28       13       29 1\\n      29       13       30 1\\n      30       14       15 1\\n      31       14       31 1\\n      32       14       32 1\\n      33       15       33 1\\n      34       15       34 1\\n      35       15       35 1\\n      36       16       17 1\\n      37       16       36 1\\n      38       16       37 1\\n@<TRIPOS>SUBSTRUCTURE\\n       1 RES             1 RESIDUE    0 **** ROOT      0\\n\",\"mol2\");\n",
       "\tviewer_17546375176415815.setStyle({\"stick\": {\"radius\": 0.18, \"color\": \"grey\"}, \"sphere\": {\"scale\": 0.3, \"colorscheme\": {}}});\n",
       "\tviewer_17546375176415815.zoomTo();\n",
       "viewer_17546375176415815.render();\n",
       "});\n",
       "</script>"
      ]
     },
     "metadata": {},
     "output_type": "display_data"
    },
    {
     "data": {
      "text/plain": [
       "<py3Dmol.view at 0x10d6817da90>"
      ]
     },
     "execution_count": 3,
     "metadata": {},
     "output_type": "execute_result"
    }
   ],
   "source": [
    "comp = mb.load('[H]C=Cc1sc([H])c2c1OC(CCCCCC)CO2', smiles=True) \n",
    "comp.visualize()\n"
   ]
  },
  {
   "cell_type": "code",
   "execution_count": null,
   "id": "429f00fa",
   "metadata": {},
   "outputs": [],
   "source": [
    "comp.save('comp.pdb')"
   ]
  },
  {
   "cell_type": "markdown",
   "id": "6da3d8cc",
   "metadata": {},
   "source": [
    "_**Apply the Force Field to the Repeat Unit Mol**_"
   ]
  },
  {
   "cell_type": "code",
   "execution_count": null,
   "id": "2e92d9fd",
   "metadata": {},
   "outputs": [],
   "source": [
    "gmso_oplsaa = ForceField(\"oplsaa.xml\")\n",
    "gmso_topology = from_mbuild(comp)\n",
    "apply(top=gmso_topology, forcefields=gmso_oplsaa, identify_connections=True) "
   ]
  },
  {
   "cell_type": "markdown",
   "id": "4d3fa4a7",
   "metadata": {},
   "source": [
    "_**Check the Order of Atoms**_"
   ]
  },
  {
   "cell_type": "code",
   "execution_count": 4,
   "id": "334242c3",
   "metadata": {},
   "outputs": [
    {
     "data": {
      "image/jpeg": "[encoded data removed]",
      "image/png": "[encoded data removed]",
      "text/plain": [
       "<PIL.PngImagePlugin.PngImageFile image mode=RGB size=300x300>"
      ]
     },
     "metadata": {},
     "output_type": "display_data"
    }
   ],
   "source": [
    "comp_rdkmol=comp.to_rdkit()\n",
    "img=Draw.MolToImage(comp_rdkmol)\n",
    "display(img)"
   ]
  },
  {
   "cell_type": "markdown",
   "id": "ad6c97e3",
   "metadata": {},
   "source": [
    "_**Build the Structure of Single chain**_"
   ]
  },
  {
   "cell_type": "code",
   "execution_count": null,
   "id": "39bc35dd",
   "metadata": {},
   "outputs": [],
   "source": [
    "chain = Polymer()\n",
    "\n",
    "chain.add_monomer(compound=comp,\n",
    "                  indices=[17, 20],\n",
    "                  separation=.154,\n",
    "                  replace=True)\n",
    "chain.add_end_groups(mb.load('[H]C=Cc1sc([H])c2c1OC(CCCCCC)CO2',smiles=True), \n",
    "                     index=17,\n",
    "                     separation=0.154, label=\"head\", duplicate=False)\n",
    "\n",
    "chain.add_end_groups(mb.load('[H]C=Cc1sc([H])c2c1OC(CCCCCC)CO2',smiles=True), \n",
    "                     index=20,\n",
    "                     separation=0.154, label=\"tail\", duplicate=False)\n",
    "chain.build(n=20, sequence='A')\n",
    "chain.visualize(show_ports=True)\n"
   ]
  },
  {
   "cell_type": "code",
   "execution_count": null,
   "id": "67b90808",
   "metadata": {},
   "outputs": [],
   "source": [
    "chain.save('chain.pdb')"
   ]
  },
  {
   "cell_type": "markdown",
   "id": "4ce8cd3f",
   "metadata": {},
   "source": [
    "_**Apply the Force Field to the Single Chain**_"
   ]
  },
  {
   "cell_type": "code",
   "execution_count": null,
   "metadata": {},
   "outputs": [],
   "source": [
    "gmso_oplsaa = ForceField(\"oplsaa.xml\")\n",
    "gmso_topology = from_mbuild(chain)\n",
    "apply(top=gmso_topology, forcefields=gmso_oplsaa, identify_connections=True) "
   ]
  },
  {
   "cell_type": "markdown",
   "id": "152df8ba",
   "metadata": {},
   "source": [
    "_**Build the Structure of System Containing Several Chains**_"
   ]
  },
  {
   "cell_type": "code",
   "execution_count": null,
   "id": "6c1d941b",
   "metadata": {},
   "outputs": [],
   "source": [
    "# the pattern we generate puts points in the xy-plane, so we'll rotate the polymer\n",
    "# so that it is oriented normal to the xy-plane\n",
    "chain.rotate(np.pi/2, [1, 0, 0])\n",
    "\n",
    "# define a compound to hold all the polymers\n",
    "system = mb.Compound()\n",
    "\n",
    "# create a pattern of points to fill a disk\n",
    "# patterns are generated between 0 and 1,\n",
    "# and thus need to be scaled to provide appropriate spacing\n",
    "pattern_disk = mb.DiskPattern(50)\n",
    "pattern_disk.scale(5)\n",
    "\n",
    "# now clone the polymer and move it to the points in the pattern\n",
    "for pos in pattern_disk:\n",
    "    current_polymer = mb.clone(chain)\n",
    "    current_polymer.translate(pos)\n",
    "    system.add(current_polymer)\n",
    "\n",
    "system.visualize()\n"
   ]
  },
  {
   "cell_type": "code",
   "execution_count": null,
   "id": "34249385",
   "metadata": {},
   "outputs": [],
   "source": [
    "system.save('system.pdb')"
   ]
  },
  {
   "cell_type": "markdown",
   "id": "da02ec36",
   "metadata": {},
   "source": [
    "_**Apply the Force Field to the System**_"
   ]
  },
  {
   "cell_type": "code",
   "execution_count": null,
   "id": "f2a49bea",
   "metadata": {},
   "outputs": [],
   "source": [
    "gmso_oplsaa = ForceField(\"oplsaa.xml\")\n",
    "gmso_topology = from_mbuild(system)\n",
    "apply(top=gmso_topology, forcefields=gmso_oplsaa, identify_connections=True) "
   ]
  }
 ],
 "metadata": {
  "kernelspec": {
   "display_name": "mbuild_env",
   "language": "python",
   "name": "python3"
  },
  "language_info": {
   "codemirror_mode": {
    "name": "ipython",
    "version": 3
   },
   "file_extension": ".py",
   "mimetype": "text/x-python",
   "name": "python",
   "nbconvert_exporter": "python",
   "pygments_lexer": "ipython3",
   "version": "3.12.0"
  }
 },
 "nbformat": 4,
 "nbformat_minor": 5
}
