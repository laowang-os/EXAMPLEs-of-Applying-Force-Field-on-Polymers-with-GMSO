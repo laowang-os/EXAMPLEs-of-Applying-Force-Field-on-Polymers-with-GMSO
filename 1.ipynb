{
 "cells": [
  {
   "cell_type": "markdown",
   "id": "7e0cf3ff",
   "metadata": {},
   "source": [
    "_**Import PKGs**_"
   ]
  },
  {
   "cell_type": "code",
   "execution_count": null,
   "id": "69872561",
   "metadata": {},
   "outputs": [],
   "source": [
    "import gmso \n",
    "import random\n",
    "import numpy as np\n",
    "import mbuild as mb\n",
    "from gmso.core.forcefield import ForceField\n",
    "from gmso.external import from_mbuild\n",
    "from gmso.parameterization import apply\n",
    "from mbuild.lib.recipes.polymer import Polymer\n",
    "from rdkit.Chem import Draw\n",
    "from IPython.display import display"
   ]
  },
  {
   "cell_type": "markdown",
   "id": "bb88daed",
   "metadata": {},
   "source": [
    "_**Build the Structure of Repeat Unit**_"
   ]
  },
  {
   "cell_type": "code",
   "execution_count": null,
   "id": "a5f5de78",
   "metadata": {},
   "outputs": [],
   "source": [
    "comp = mb.load('[H]C=C([H])c1ccc(NC=O)cc1', smiles=True) \n",
    "comp.visualize()\n"
   ]
  },
  {
   "cell_type": "code",
   "execution_count": null,
   "id": "429f00fa",
   "metadata": {},
   "outputs": [],
   "source": [
    "comp.save('comp.pdb')"
   ]
  },
  {
   "cell_type": "markdown",
   "id": "03dac1fd",
   "metadata": {},
   "source": [
    "_**Apply the Force Field to the Repeat Unit Mol**_"
   ]
  },
  {
   "cell_type": "code",
   "execution_count": null,
   "id": "2e92d9fd",
   "metadata": {},
   "outputs": [],
   "source": [
    "gmso_oplsaa = ForceField(\"oplsaa.xml\")\n",
    "gmso_topology = from_mbuild(comp)\n",
    "apply(top=gmso_topology, forcefields=gmso_oplsaa, identify_connections=True) "
   ]
  },
  {
   "cell_type": "markdown",
   "id": "c25fa309",
   "metadata": {},
   "source": [
    "_**Check the Order of Atoms**_"
   ]
  },
  {
   "cell_type": "code",
   "execution_count": null,
   "id": "334242c3",
   "metadata": {},
   "outputs": [],
   "source": [
    "comp_rdkmol=comp.to_rdkit()\n",
    "img=Draw.MolToImage(comp_rdkmol)\n",
    "display(img)"
   ]
  },
  {
   "cell_type": "markdown",
   "id": "1cb5f951",
   "metadata": {},
   "source": [
    "_**Build the Structure of Single chain**_"
   ]
  },
  {
   "cell_type": "code",
   "execution_count": null,
   "id": "39bc35dd",
   "metadata": {},
   "outputs": [],
   "source": [
    "chain = Polymer()\n",
    "\n",
    "chain.add_monomer(compound=comp,\n",
    "                  indices=[11, 13],\n",
    "                  separation=.154,\n",
    "                  replace=True)\n",
    "chain.add_end_groups(mb.load('[H]C=C([H])c1ccc(NC=O)cc1',smiles=True), \n",
    "                     index=11,\n",
    "                     separation=0.154, label=\"head\", duplicate=False)\n",
    "\n",
    "chain.add_end_groups(mb.load('[H]C=C([H])c1ccc(NC=O)cc1',smiles=True), \n",
    "                     index=13,\n",
    "                     separation=0.154, label=\"tail\", duplicate=False)\n",
    "chain.build(n=20, sequence='A')\n",
    "chain.visualize(show_ports=True)\n"
   ]
  },
  {
   "cell_type": "code",
   "execution_count": null,
   "id": "67b90808",
   "metadata": {},
   "outputs": [],
   "source": [
    "chain.save('chain.pdb')"
   ]
  },
  {
   "cell_type": "markdown",
   "id": "1320bb93",
   "metadata": {},
   "source": [
    "_**Apply the Force Field to the Single Chain**_"
   ]
  },
  {
   "cell_type": "code",
   "execution_count": null,
   "metadata": {},
   "outputs": [],
   "source": [
    "gmso_oplsaa = ForceField(\"oplsaa.xml\")\n",
    "gmso_topology = from_mbuild(chain)\n",
    "apply(top=gmso_topology, forcefields=gmso_oplsaa, identify_connections=True) "
   ]
  },
  {
   "cell_type": "markdown",
   "id": "92b9e875",
   "metadata": {},
   "source": [
    "_**Build the Structure of System Containing Several Chains**_"
   ]
  },
  {
   "cell_type": "code",
   "execution_count": null,
   "id": "6c1d941b",
   "metadata": {},
   "outputs": [],
   "source": [
    "# the pattern we generate puts points in the xy-plane, so we'll rotate the polymer\n",
    "# so that it is oriented normal to the xy-plane\n",
    "chain.rotate(np.pi/2, [1, 0, 0])\n",
    "\n",
    "# define a compound to hold all the polymers\n",
    "system = mb.Compound()\n",
    "\n",
    "# create a pattern of points to fill a disk\n",
    "# patterns are generated between 0 and 1,\n",
    "# and thus need to be scaled to provide appropriate spacing\n",
    "pattern_disk = mb.DiskPattern(50)\n",
    "pattern_disk.scale(5)\n",
    "\n",
    "# now clone the polymer and move it to the points in the pattern\n",
    "for pos in pattern_disk:\n",
    "    current_polymer = mb.clone(chain)\n",
    "    current_polymer.translate(pos)\n",
    "    system.add(current_polymer)\n",
    "\n",
    "system.visualize()\n"
   ]
  },
  {
   "cell_type": "code",
   "execution_count": null,
   "id": "34249385",
   "metadata": {},
   "outputs": [],
   "source": [
    "system.save('system.pdb')"
   ]
  },
  {
   "cell_type": "markdown",
   "id": "3c91da86",
   "metadata": {},
   "source": [
    "_**Apply the Force Field to the System**_"
   ]
  },
  {
   "cell_type": "code",
   "execution_count": null,
   "id": "f2a49bea",
   "metadata": {},
   "outputs": [],
   "source": [
    "gmso_oplsaa = ForceField(\"oplsaa.xml\")\n",
    "gmso_topology = from_mbuild(system)\n",
    "apply(top=gmso_topology, forcefields=gmso_oplsaa, identify_connections=True) "
   ]
  }
 ],
 "metadata": {
  "kernelspec": {
   "display_name": "mbuild_env",
   "language": "python",
   "name": "python3"
  },
  "language_info": {
   "codemirror_mode": {
    "name": "ipython",
    "version": 3
   },
   "file_extension": ".py",
   "mimetype": "text/x-python",
   "name": "python",
   "nbconvert_exporter": "python",
   "pygments_lexer": "ipython3",
   "version": "3.12.0"
  }
 },
 "nbformat": 4,
 "nbformat_minor": 5
}
