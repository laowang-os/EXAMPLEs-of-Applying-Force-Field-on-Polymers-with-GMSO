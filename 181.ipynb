{
 "cells": [
  {
   "cell_type": "markdown",
   "id": "b1815751",
   "metadata": {},
   "source": [
    "_**Import PKGs**_"
   ]
  },
  {
   "cell_type": "code",
   "execution_count": 1,
   "id": "69872561",
   "metadata": {},
   "outputs": [],
   "source": [
    "import gmso \n",
    "import random\n",
    "import numpy as np\n",
    "import mbuild as mb\n",
    "from gmso.core.forcefield import ForceField\n",
    "from gmso.external import from_mbuild\n",
    "from gmso.parameterization import apply\n",
    "from mbuild.lib.recipes.polymer import Polymer\n",
    "from rdkit.Chem import Draw\n",
    "from IPython.display import display"
   ]
  },
  {
   "cell_type": "markdown",
   "id": "9eb0997b",
   "metadata": {},
   "source": [
    "_**Build the Structure of Repeat Unit**_"
   ]
  },
  {
   "cell_type": "code",
   "execution_count": 2,
   "id": "a5f5de78",
   "metadata": {},
   "outputs": [
    {
     "name": "stderr",
     "output_type": "stream",
     "text": [
      "d:\\programdata\\anaconda3\\envs\\mbuild_env\\Lib\\site-packages\\mbuild\\compound.py:546: UserWarning: Some particle of <Compound 48 particles, 48 bonds, non-periodic, id: 2546459424288> does not have a charge.They will not be accounted for during this calculation.\n",
      "  warn(\n"
     ]
    },
    {
     "data": {
      "application/3dmoljs_load.v0": "<div id=\"3dmolviewer_17546419782255943\"  style=\"position: relative; width: 640px; height: 480px;\">\n        <p id=\"3dmolwarning_17546419782255943\" style=\"background-color:#ffcccc;color:black\">3Dmol.js failed to load for some reason.  Please check your browser console for error messages.<br></p>\n        </div>\n<script>\n\nvar loadScriptAsync = function(uri){\n  return new Promise((resolve, reject) => {\n    //this is to ignore the existence of requirejs amd\n    var savedexports, savedmodule;\n    if (typeof exports !== 'undefined') savedexports = exports;\n    else exports = {}\n    if (typeof module !== 'undefined') savedmodule = module;\n    else module = {}\n\n    var tag = document.createElement('script');\n    tag.src = uri;\n    tag.async = true;\n    tag.onload = () => {\n        exports = savedexports;\n        module = savedmodule;\n        resolve();\n    };\n  var firstScriptTag = document.getElementsByTagName('script')[0];\n  firstScriptTag.parentNode.insertBefore(tag, firstScriptTag);\n});\n};\n\nif(typeof $3Dmolpromise === 'undefined') {\n$3Dmolpromise = null;\n  $3Dmolpromise = loadScriptAsync('https://cdn.jsdelivr.net/npm/3dmol@2.5.1/build/3Dmol-min.js');\n}\n\nvar viewer_17546419782255943 = null;\nvar warn = document.getElementById(\"3dmolwarning_17546419782255943\");\nif(warn) {\n    warn.parentNode.removeChild(warn);\n}\n$3Dmolpromise.then(function() {\nviewer_17546419782255943 = $3Dmol.createViewer(document.getElementById(\"3dmolviewer_17546419782255943\"),{backgroundColor:\"white\"});\nviewer_17546419782255943.zoomTo();\n\tviewer_17546419782255943.addModel(\"@<TRIPOS>MOLECULE\\nRES\\n48 48 1 0 1\\nSMALL\\nNO_CHARGES\\n@<TRIPOS>CRYSIN\\n   27.1981     8.6848     9.4137    90.0000    90.0000    90.0000 1 1\\n@<TRIPOS>ATOM\\n       1 C            9.8934    -0.2000    -0.8792 C             1 RES     \\n       2 C            9.0337     0.9681    -0.4095 C             1 RES     \\n       3 O            7.6610     0.7386    -0.7207 O             1 RES     \\n       4 C            6.8450    -0.1394     0.0004 C             1 RES     \\n       5 O            7.2817    -0.7316     1.0243 O             1 RES     \\n       6 C            5.4220    -0.3319    -0.4182 C             1 RES     \\n       7 C            4.5344     0.7583     0.1954 C             1 RES     \\n       8 C            3.0809     0.6833    -0.2979 C             1 RES     \\n       9 C            2.3181    -0.5090     0.2927 C             1 RES     \\n      10 C            0.8859    -0.4742    -0.1369 C             1 RES     \\n      11 O            0.5321    -1.0831    -1.1838 O             1 RES     \\n      12 O           -0.0342     0.2828     0.5966 O             1 RES     \\n      13 C           -1.4217     0.3554     0.2751 C             1 RES     \\n      14 C           -2.1452    -0.9134     0.7291 C             1 RES     \\n      15 O           -3.5216    -0.8661     0.3585 O             1 RES     \\n      16 C           -4.4741    -0.0776     1.0169 C             1 RES     \\n      17 O           -4.1464     0.5937     2.0335 O             1 RES     \\n      18 C           -5.8675    -0.0400     0.5207 C             1 RES     \\n      19 C           -6.8323     0.7666     1.1488 C             1 RES     \\n      20 C           -8.1472     0.7995     0.6753 C             1 RES     \\n      21 C           -8.5249     0.0275    -0.4362 C             1 RES     \\n      22 C           -9.9151     0.0597    -0.9416 C             1 RES     \\n      23 O          -10.7758     0.8022    -0.3969 O             1 RES     \\n      24 O          -10.2862    -0.7303    -2.0264 O             1 RES     \\n      25 C           -7.5604    -0.7781    -1.0637 C             1 RES     \\n      26 C           -6.2454    -0.8114    -0.5905 C             1 RES     \\n      27 H           10.9628     0.0180    -0.6748 H             1 RES     \\n      28 H            9.7595    -0.3538    -1.9714 H             1 RES     \\n      29 H            9.6103    -1.1300    -0.3428 H             1 RES     \\n      30 H            9.3659     1.8893    -0.9330 H             1 RES     \\n      31 H            9.1624     1.1277     0.6834 H             1 RES     \\n      32 H            5.0817    -1.3373    -0.0909 H             1 RES     \\n      33 H            5.3642    -0.2883    -1.5279 H             1 RES     \\n      34 H            4.9420     1.7536    -0.0898 H             1 RES     \\n      35 H            4.5609     0.6893     1.3055 H             1 RES     \\n      36 H            3.0614     0.6339    -1.4086 H             1 RES     \\n      37 H            2.5664     1.6214     0.0060 H             1 RES     \\n      38 H            2.3620    -0.4744     1.4025 H             1 RES     \\n      39 H            2.7723    -1.4639    -0.0443 H             1 RES     \\n      40 H           -1.8547     1.2319     0.7990 H             1 RES     \\n      41 H           -1.5575     0.5088    -0.8174 H             1 RES     \\n      42 H           -1.6837    -1.7955     0.2381 H             1 RES     \\n      43 H           -2.0457    -1.0425     1.8294 H             1 RES     \\n      44 H           -6.5719     1.3746     2.0071 H             1 RES     \\n      45 H           -8.8677     1.4291     1.1808 H             1 RES     \\n      46 H          -11.2353    -0.7155    -2.3802 H             1 RES     \\n      47 H           -7.8200    -1.3838    -1.9229 H             1 RES     \\n      48 H           -5.5255    -1.4425    -1.0965 H             1 RES     \\n@<TRIPOS>BOND\\n       1        1        2 1\\n       2        1       27 1\\n       3        1       28 1\\n       4        1       29 1\\n       5        2        3 1\\n       6        2       30 1\\n       7        2       31 1\\n       8        3        4 1\\n       9        4        5 1\\n      10        4        6 1\\n      11        6        7 1\\n      12        6       32 1\\n      13        6       33 1\\n      14        7        8 1\\n      15        7       34 1\\n      16        7       35 1\\n      17        8        9 1\\n      18        8       36 1\\n      19        8       37 1\\n      20        9       10 1\\n      21        9       38 1\\n      22        9       39 1\\n      23       10       11 1\\n      24       10       12 1\\n      25       12       13 1\\n      26       13       14 1\\n      27       13       40 1\\n      28       13       41 1\\n      29       14       15 1\\n      30       14       42 1\\n      31       14       43 1\\n      32       15       16 1\\n      33       16       17 1\\n      34       16       18 1\\n      35       18       19 1\\n      36       18       26 1\\n      37       19       20 1\\n      38       19       44 1\\n      39       20       21 1\\n      40       20       45 1\\n      41       21       22 1\\n      42       21       25 1\\n      43       22       23 1\\n      44       22       24 1\\n      45       24       46 1\\n      46       25       26 1\\n      47       25       47 1\\n      48       26       48 1\\n@<TRIPOS>SUBSTRUCTURE\\n       1 RES             1 RESIDUE    0 **** ROOT      0\\n\",\"mol2\");\n\tviewer_17546419782255943.setStyle({\"stick\": {\"radius\": 0.18, \"color\": \"grey\"}, \"sphere\": {\"scale\": 0.3, \"colorscheme\": {}}});\n\tviewer_17546419782255943.zoomTo();\nviewer_17546419782255943.render();\n});\n</script>",
      "text/html": [
       "<div id=\"3dmolviewer_17546419782255943\"  style=\"position: relative; width: 640px; height: 480px;\">\n",
       "        <p id=\"3dmolwarning_17546419782255943\" style=\"background-color:#ffcccc;color:black\">3Dmol.js failed to load for some reason.  Please check your browser console for error messages.<br></p>\n",
       "        </div>\n",
       "<script>\n",
       "\n",
       "var loadScriptAsync = function(uri){\n",
       "  return new Promise((resolve, reject) => {\n",
       "    //this is to ignore the existence of requirejs amd\n",
       "    var savedexports, savedmodule;\n",
       "    if (typeof exports !== 'undefined') savedexports = exports;\n",
       "    else exports = {}\n",
       "    if (typeof module !== 'undefined') savedmodule = module;\n",
       "    else module = {}\n",
       "\n",
       "    var tag = document.createElement('script');\n",
       "    tag.src = uri;\n",
       "    tag.async = true;\n",
       "    tag.onload = () => {\n",
       "        exports = savedexports;\n",
       "        module = savedmodule;\n",
       "        resolve();\n",
       "    };\n",
       "  var firstScriptTag = document.getElementsByTagName('script')[0];\n",
       "  firstScriptTag.parentNode.insertBefore(tag, firstScriptTag);\n",
       "});\n",
       "};\n",
       "\n",
       "if(typeof $3Dmolpromise === 'undefined') {\n",
       "$3Dmolpromise = null;\n",
       "  $3Dmolpromise = loadScriptAsync('https://cdn.jsdelivr.net/npm/3dmol@2.5.1/build/3Dmol-min.js');\n",
       "}\n",
       "\n",
       "var viewer_17546419782255943 = null;\n",
       "var warn = document.getElementById(\"3dmolwarning_17546419782255943\");\n",
       "if(warn) {\n",
       "    warn.parentNode.removeChild(warn);\n",
       "}\n",
       "$3Dmolpromise.then(function() {\n",
       "viewer_17546419782255943 = $3Dmol.createViewer(document.getElementById(\"3dmolviewer_17546419782255943\"),{backgroundColor:\"white\"});\n",
       "viewer_17546419782255943.zoomTo();\n",
       "\tviewer_17546419782255943.addModel(\"@<TRIPOS>MOLECULE\\nRES\\n48 48 1 0 1\\nSMALL\\nNO_CHARGES\\n@<TRIPOS>CRYSIN\\n   27.1981     8.6848     9.4137    90.0000    90.0000    90.0000 1 1\\n@<TRIPOS>ATOM\\n       1 C            9.8934    -0.2000    -0.8792 C             1 RES     \\n       2 C            9.0337     0.9681    -0.4095 C             1 RES     \\n       3 O            7.6610     0.7386    -0.7207 O             1 RES     \\n       4 C            6.8450    -0.1394     0.0004 C             1 RES     \\n       5 O            7.2817    -0.7316     1.0243 O             1 RES     \\n       6 C            5.4220    -0.3319    -0.4182 C             1 RES     \\n       7 C            4.5344     0.7583     0.1954 C             1 RES     \\n       8 C            3.0809     0.6833    -0.2979 C             1 RES     \\n       9 C            2.3181    -0.5090     0.2927 C             1 RES     \\n      10 C            0.8859    -0.4742    -0.1369 C             1 RES     \\n      11 O            0.5321    -1.0831    -1.1838 O             1 RES     \\n      12 O           -0.0342     0.2828     0.5966 O             1 RES     \\n      13 C           -1.4217     0.3554     0.2751 C             1 RES     \\n      14 C           -2.1452    -0.9134     0.7291 C             1 RES     \\n      15 O           -3.5216    -0.8661     0.3585 O             1 RES     \\n      16 C           -4.4741    -0.0776     1.0169 C             1 RES     \\n      17 O           -4.1464     0.5937     2.0335 O             1 RES     \\n      18 C           -5.8675    -0.0400     0.5207 C             1 RES     \\n      19 C           -6.8323     0.7666     1.1488 C             1 RES     \\n      20 C           -8.1472     0.7995     0.6753 C             1 RES     \\n      21 C           -8.5249     0.0275    -0.4362 C             1 RES     \\n      22 C           -9.9151     0.0597    -0.9416 C             1 RES     \\n      23 O          -10.7758     0.8022    -0.3969 O             1 RES     \\n      24 O          -10.2862    -0.7303    -2.0264 O             1 RES     \\n      25 C           -7.5604    -0.7781    -1.0637 C             1 RES     \\n      26 C           -6.2454    -0.8114    -0.5905 C             1 RES     \\n      27 H           10.9628     0.0180    -0.6748 H             1 RES     \\n      28 H            9.7595    -0.3538    -1.9714 H             1 RES     \\n      29 H            9.6103    -1.1300    -0.3428 H             1 RES     \\n      30 H            9.3659     1.8893    -0.9330 H             1 RES     \\n      31 H            9.1624     1.1277     0.6834 H             1 RES     \\n      32 H            5.0817    -1.3373    -0.0909 H             1 RES     \\n      33 H            5.3642    -0.2883    -1.5279 H             1 RES     \\n      34 H            4.9420     1.7536    -0.0898 H             1 RES     \\n      35 H            4.5609     0.6893     1.3055 H             1 RES     \\n      36 H            3.0614     0.6339    -1.4086 H             1 RES     \\n      37 H            2.5664     1.6214     0.0060 H             1 RES     \\n      38 H            2.3620    -0.4744     1.4025 H             1 RES     \\n      39 H            2.7723    -1.4639    -0.0443 H             1 RES     \\n      40 H           -1.8547     1.2319     0.7990 H             1 RES     \\n      41 H           -1.5575     0.5088    -0.8174 H             1 RES     \\n      42 H           -1.6837    -1.7955     0.2381 H             1 RES     \\n      43 H           -2.0457    -1.0425     1.8294 H             1 RES     \\n      44 H           -6.5719     1.3746     2.0071 H             1 RES     \\n      45 H           -8.8677     1.4291     1.1808 H             1 RES     \\n      46 H          -11.2353    -0.7155    -2.3802 H             1 RES     \\n      47 H           -7.8200    -1.3838    -1.9229 H             1 RES     \\n      48 H           -5.5255    -1.4425    -1.0965 H             1 RES     \\n@<TRIPOS>BOND\\n       1        1        2 1\\n       2        1       27 1\\n       3        1       28 1\\n       4        1       29 1\\n       5        2        3 1\\n       6        2       30 1\\n       7        2       31 1\\n       8        3        4 1\\n       9        4        5 1\\n      10        4        6 1\\n      11        6        7 1\\n      12        6       32 1\\n      13        6       33 1\\n      14        7        8 1\\n      15        7       34 1\\n      16        7       35 1\\n      17        8        9 1\\n      18        8       36 1\\n      19        8       37 1\\n      20        9       10 1\\n      21        9       38 1\\n      22        9       39 1\\n      23       10       11 1\\n      24       10       12 1\\n      25       12       13 1\\n      26       13       14 1\\n      27       13       40 1\\n      28       13       41 1\\n      29       14       15 1\\n      30       14       42 1\\n      31       14       43 1\\n      32       15       16 1\\n      33       16       17 1\\n      34       16       18 1\\n      35       18       19 1\\n      36       18       26 1\\n      37       19       20 1\\n      38       19       44 1\\n      39       20       21 1\\n      40       20       45 1\\n      41       21       22 1\\n      42       21       25 1\\n      43       22       23 1\\n      44       22       24 1\\n      45       24       46 1\\n      46       25       26 1\\n      47       25       47 1\\n      48       26       48 1\\n@<TRIPOS>SUBSTRUCTURE\\n       1 RES             1 RESIDUE    0 **** ROOT      0\\n\",\"mol2\");\n",
       "\tviewer_17546419782255943.setStyle({\"stick\": {\"radius\": 0.18, \"color\": \"grey\"}, \"sphere\": {\"scale\": 0.3, \"colorscheme\": {}}});\n",
       "\tviewer_17546419782255943.zoomTo();\n",
       "viewer_17546419782255943.render();\n",
       "});\n",
       "</script>"
      ]
     },
     "metadata": {},
     "output_type": "display_data"
    },
    {
     "data": {
      "text/plain": [
       "<py3Dmol.view at 0x250e5534f20>"
      ]
     },
     "execution_count": 2,
     "metadata": {},
     "output_type": "execute_result"
    }
   ],
   "source": [
    "comp = mb.load('[H]CCOC(=O)CCCCC(=O)OCCOC(=O)c1ccc(C(=O)O[H])cc1', smiles=True) \n",
    "comp.visualize()\n"
   ]
  },
  {
   "cell_type": "code",
   "execution_count": 4,
   "id": "429f00fa",
   "metadata": {},
   "outputs": [
    {
     "name": "stderr",
     "output_type": "stream",
     "text": [
      "d:\\programdata\\anaconda3\\envs\\mbuild_env\\Lib\\site-packages\\mbuild\\compound.py:546: UserWarning: Some particle of <Compound 48 particles, 48 bonds, non-periodic, id: 2546458799584> does not have a charge.They will not be accounted for during this calculation.\n",
      "  warn(\n"
     ]
    }
   ],
   "source": [
    "comp.save('comp.pdb')"
   ]
  },
  {
   "cell_type": "markdown",
   "id": "bb57d9dc",
   "metadata": {},
   "source": [
    "_**Apply the Force Field to the Repeat Unit Mol**_"
   ]
  },
  {
   "cell_type": "code",
   "execution_count": 5,
   "id": "2e92d9fd",
   "metadata": {},
   "outputs": [
    {
     "name": "stderr",
     "output_type": "stream",
     "text": [
      "d:\\programdata\\anaconda3\\envs\\mbuild_env\\Lib\\site-packages\\gmso\\core\\atom_type.py:236: UserWarning: Masses are assumed to be in units of g/mol\n",
      "  warnings.warn(UNIT_WARNING_STRING.format(\"Masses\", \"g/mol\"))\n",
      "d:\\programdata\\anaconda3\\envs\\mbuild_env\\Lib\\site-packages\\gmso\\core\\atom_type.py:248: UserWarning: Charges are assumed to be in units of elementary charge\n",
      "  warnings.warn(UNIT_WARNING_STRING.format(\"Charges\", \"elementary charge\"))\n",
      "d:\\programdata\\anaconda3\\envs\\mbuild_env\\Lib\\site-packages\\gmso\\core\\forcefield.py:362: UserWarning: BondType between atoms opls_135 and opls_490 is missing from the ForceField\n",
      "  warnings.warn(msg)\n",
      "d:\\programdata\\anaconda3\\envs\\mbuild_env\\Lib\\site-packages\\gmso\\core\\forcefield.py:362: UserWarning: BondType between atoms opls_135 and opls_140 is missing from the ForceField\n",
      "  warnings.warn(msg)\n",
      "d:\\programdata\\anaconda3\\envs\\mbuild_env\\Lib\\site-packages\\gmso\\core\\forcefield.py:362: UserWarning: BondType between atoms opls_490 and opls_467 is missing from the ForceField\n",
      "  warnings.warn(msg)\n",
      "d:\\programdata\\anaconda3\\envs\\mbuild_env\\Lib\\site-packages\\gmso\\core\\forcefield.py:362: UserWarning: BondType between atoms opls_490 and opls_469 is missing from the ForceField\n",
      "  warnings.warn(msg)\n",
      "d:\\programdata\\anaconda3\\envs\\mbuild_env\\Lib\\site-packages\\gmso\\core\\forcefield.py:362: UserWarning: BondType between atoms opls_467 and opls_465 is missing from the ForceField\n",
      "  warnings.warn(msg)\n",
      "d:\\programdata\\anaconda3\\envs\\mbuild_env\\Lib\\site-packages\\gmso\\core\\forcefield.py:362: UserWarning: BondType between atoms opls_465 and opls_466 is missing from the ForceField\n",
      "  warnings.warn(msg)\n",
      "d:\\programdata\\anaconda3\\envs\\mbuild_env\\Lib\\site-packages\\gmso\\core\\forcefield.py:362: UserWarning: BondType between atoms opls_465 and opls_136 is missing from the ForceField\n",
      "  warnings.warn(msg)\n",
      "d:\\programdata\\anaconda3\\envs\\mbuild_env\\Lib\\site-packages\\gmso\\core\\forcefield.py:362: UserWarning: BondType between atoms opls_136 and opls_136 is missing from the ForceField\n",
      "  warnings.warn(msg)\n",
      "d:\\programdata\\anaconda3\\envs\\mbuild_env\\Lib\\site-packages\\gmso\\core\\forcefield.py:362: UserWarning: BondType between atoms opls_136 and opls_282 is missing from the ForceField\n",
      "  warnings.warn(msg)\n",
      "d:\\programdata\\anaconda3\\envs\\mbuild_env\\Lib\\site-packages\\gmso\\core\\forcefield.py:362: UserWarning: BondType between atoms opls_136 and opls_140 is missing from the ForceField\n",
      "  warnings.warn(msg)\n",
      "d:\\programdata\\anaconda3\\envs\\mbuild_env\\Lib\\site-packages\\gmso\\core\\forcefield.py:362: UserWarning: BondType between atoms opls_136 and opls_465 is missing from the ForceField\n",
      "  warnings.warn(msg)\n",
      "d:\\programdata\\anaconda3\\envs\\mbuild_env\\Lib\\site-packages\\gmso\\core\\forcefield.py:362: UserWarning: BondType between atoms opls_465 and opls_467 is missing from the ForceField\n",
      "  warnings.warn(msg)\n",
      "d:\\programdata\\anaconda3\\envs\\mbuild_env\\Lib\\site-packages\\gmso\\core\\forcefield.py:362: UserWarning: BondType between atoms opls_467 and opls_490 is missing from the ForceField\n",
      "  warnings.warn(msg)\n",
      "d:\\programdata\\anaconda3\\envs\\mbuild_env\\Lib\\site-packages\\gmso\\core\\forcefield.py:362: UserWarning: BondType between atoms opls_490 and opls_490 is missing from the ForceField\n",
      "  warnings.warn(msg)\n",
      "d:\\programdata\\anaconda3\\envs\\mbuild_env\\Lib\\site-packages\\gmso\\core\\forcefield.py:362: UserWarning: BondType between atoms opls_465 and opls_145 is missing from the ForceField\n",
      "  warnings.warn(msg)\n",
      "d:\\programdata\\anaconda3\\envs\\mbuild_env\\Lib\\site-packages\\gmso\\core\\forcefield.py:362: UserWarning: BondType between atoms opls_145 and opls_145 is missing from the ForceField\n",
      "  warnings.warn(msg)\n",
      "d:\\programdata\\anaconda3\\envs\\mbuild_env\\Lib\\site-packages\\gmso\\core\\forcefield.py:362: UserWarning: BondType between atoms opls_145 and opls_146 is missing from the ForceField\n",
      "  warnings.warn(msg)\n",
      "d:\\programdata\\anaconda3\\envs\\mbuild_env\\Lib\\site-packages\\gmso\\core\\forcefield.py:362: UserWarning: BondType between atoms opls_145 and opls_267 is missing from the ForceField\n",
      "  warnings.warn(msg)\n",
      "d:\\programdata\\anaconda3\\envs\\mbuild_env\\Lib\\site-packages\\gmso\\core\\forcefield.py:362: UserWarning: BondType between atoms opls_267 and opls_269 is missing from the ForceField\n",
      "  warnings.warn(msg)\n",
      "d:\\programdata\\anaconda3\\envs\\mbuild_env\\Lib\\site-packages\\gmso\\core\\forcefield.py:362: UserWarning: BondType between atoms opls_267 and opls_268 is missing from the ForceField\n",
      "  warnings.warn(msg)\n",
      "d:\\programdata\\anaconda3\\envs\\mbuild_env\\Lib\\site-packages\\gmso\\core\\forcefield.py:362: UserWarning: BondType between atoms opls_268 and opls_270 is missing from the ForceField\n",
      "  warnings.warn(msg)\n",
      "d:\\programdata\\anaconda3\\envs\\mbuild_env\\Lib\\site-packages\\gmso\\core\\forcefield.py:393: UserWarning: AngleType between atoms opls_490, opls_135 and opls_140 is missing from the ForceField\n",
      "  warnings.warn(msg)\n",
      "d:\\programdata\\anaconda3\\envs\\mbuild_env\\Lib\\site-packages\\gmso\\core\\forcefield.py:393: UserWarning: AngleType between atoms opls_140, opls_135 and opls_140 is missing from the ForceField\n",
      "  warnings.warn(msg)\n",
      "d:\\programdata\\anaconda3\\envs\\mbuild_env\\Lib\\site-packages\\gmso\\core\\forcefield.py:393: UserWarning: AngleType between atoms opls_135, opls_490 and opls_467 is missing from the ForceField\n",
      "  warnings.warn(msg)\n",
      "d:\\programdata\\anaconda3\\envs\\mbuild_env\\Lib\\site-packages\\gmso\\core\\forcefield.py:393: UserWarning: AngleType between atoms opls_135, opls_490 and opls_469 is missing from the ForceField\n",
      "  warnings.warn(msg)\n",
      "d:\\programdata\\anaconda3\\envs\\mbuild_env\\Lib\\site-packages\\gmso\\core\\forcefield.py:393: UserWarning: AngleType between atoms opls_467, opls_490 and opls_469 is missing from the ForceField\n",
      "  warnings.warn(msg)\n",
      "d:\\programdata\\anaconda3\\envs\\mbuild_env\\Lib\\site-packages\\gmso\\core\\forcefield.py:393: UserWarning: AngleType between atoms opls_469, opls_490 and opls_469 is missing from the ForceField\n",
      "  warnings.warn(msg)\n",
      "d:\\programdata\\anaconda3\\envs\\mbuild_env\\Lib\\site-packages\\gmso\\core\\forcefield.py:393: UserWarning: AngleType between atoms opls_490, opls_467 and opls_465 is missing from the ForceField\n",
      "  warnings.warn(msg)\n",
      "d:\\programdata\\anaconda3\\envs\\mbuild_env\\Lib\\site-packages\\gmso\\core\\forcefield.py:393: UserWarning: AngleType between atoms opls_467, opls_465 and opls_466 is missing from the ForceField\n",
      "  warnings.warn(msg)\n",
      "d:\\programdata\\anaconda3\\envs\\mbuild_env\\Lib\\site-packages\\gmso\\core\\forcefield.py:393: UserWarning: AngleType between atoms opls_467, opls_465 and opls_136 is missing from the ForceField\n",
      "  warnings.warn(msg)\n",
      "d:\\programdata\\anaconda3\\envs\\mbuild_env\\Lib\\site-packages\\gmso\\core\\forcefield.py:393: UserWarning: AngleType between atoms opls_466, opls_465 and opls_136 is missing from the ForceField\n",
      "  warnings.warn(msg)\n",
      "d:\\programdata\\anaconda3\\envs\\mbuild_env\\Lib\\site-packages\\gmso\\core\\forcefield.py:393: UserWarning: AngleType between atoms opls_465, opls_136 and opls_136 is missing from the ForceField\n",
      "  warnings.warn(msg)\n",
      "d:\\programdata\\anaconda3\\envs\\mbuild_env\\Lib\\site-packages\\gmso\\core\\forcefield.py:393: UserWarning: AngleType between atoms opls_465, opls_136 and opls_282 is missing from the ForceField\n",
      "  warnings.warn(msg)\n",
      "d:\\programdata\\anaconda3\\envs\\mbuild_env\\Lib\\site-packages\\gmso\\core\\forcefield.py:393: UserWarning: AngleType between atoms opls_136, opls_136 and opls_282 is missing from the ForceField\n",
      "  warnings.warn(msg)\n",
      "d:\\programdata\\anaconda3\\envs\\mbuild_env\\Lib\\site-packages\\gmso\\core\\forcefield.py:393: UserWarning: AngleType between atoms opls_282, opls_136 and opls_282 is missing from the ForceField\n",
      "  warnings.warn(msg)\n",
      "d:\\programdata\\anaconda3\\envs\\mbuild_env\\Lib\\site-packages\\gmso\\core\\forcefield.py:393: UserWarning: AngleType between atoms opls_136, opls_136 and opls_136 is missing from the ForceField\n",
      "  warnings.warn(msg)\n",
      "d:\\programdata\\anaconda3\\envs\\mbuild_env\\Lib\\site-packages\\gmso\\core\\forcefield.py:393: UserWarning: AngleType between atoms opls_136, opls_136 and opls_140 is missing from the ForceField\n",
      "  warnings.warn(msg)\n",
      "d:\\programdata\\anaconda3\\envs\\mbuild_env\\Lib\\site-packages\\gmso\\core\\forcefield.py:393: UserWarning: AngleType between atoms opls_140, opls_136 and opls_140 is missing from the ForceField\n",
      "  warnings.warn(msg)\n",
      "d:\\programdata\\anaconda3\\envs\\mbuild_env\\Lib\\site-packages\\gmso\\core\\forcefield.py:393: UserWarning: AngleType between atoms opls_136, opls_136 and opls_465 is missing from the ForceField\n",
      "  warnings.warn(msg)\n",
      "d:\\programdata\\anaconda3\\envs\\mbuild_env\\Lib\\site-packages\\gmso\\core\\forcefield.py:393: UserWarning: AngleType between atoms opls_136, opls_465 and opls_466 is missing from the ForceField\n",
      "  warnings.warn(msg)\n",
      "d:\\programdata\\anaconda3\\envs\\mbuild_env\\Lib\\site-packages\\gmso\\core\\forcefield.py:393: UserWarning: AngleType between atoms opls_136, opls_465 and opls_467 is missing from the ForceField\n",
      "  warnings.warn(msg)\n",
      "d:\\programdata\\anaconda3\\envs\\mbuild_env\\Lib\\site-packages\\gmso\\core\\forcefield.py:393: UserWarning: AngleType between atoms opls_466, opls_465 and opls_467 is missing from the ForceField\n",
      "  warnings.warn(msg)\n",
      "d:\\programdata\\anaconda3\\envs\\mbuild_env\\Lib\\site-packages\\gmso\\core\\forcefield.py:393: UserWarning: AngleType between atoms opls_465, opls_467 and opls_490 is missing from the ForceField\n",
      "  warnings.warn(msg)\n",
      "d:\\programdata\\anaconda3\\envs\\mbuild_env\\Lib\\site-packages\\gmso\\core\\forcefield.py:393: UserWarning: AngleType between atoms opls_467, opls_490 and opls_490 is missing from the ForceField\n",
      "  warnings.warn(msg)\n",
      "d:\\programdata\\anaconda3\\envs\\mbuild_env\\Lib\\site-packages\\gmso\\core\\forcefield.py:393: UserWarning: AngleType between atoms opls_490, opls_490 and opls_469 is missing from the ForceField\n",
      "  warnings.warn(msg)\n",
      "d:\\programdata\\anaconda3\\envs\\mbuild_env\\Lib\\site-packages\\gmso\\core\\forcefield.py:393: UserWarning: AngleType between atoms opls_490, opls_490 and opls_467 is missing from the ForceField\n",
      "  warnings.warn(msg)\n",
      "d:\\programdata\\anaconda3\\envs\\mbuild_env\\Lib\\site-packages\\gmso\\core\\forcefield.py:393: UserWarning: AngleType between atoms opls_467, opls_465 and opls_145 is missing from the ForceField\n",
      "  warnings.warn(msg)\n",
      "d:\\programdata\\anaconda3\\envs\\mbuild_env\\Lib\\site-packages\\gmso\\core\\forcefield.py:393: UserWarning: AngleType between atoms OS, C_2 and CA is missing from the ForceField\n",
      "  warnings.warn(msg)\n"
     ]
    },
    {
     "ename": "ParameterizationError",
     "evalue": "No parameters found for connection <Angle Angle, id: 2546552023760> , group: angle_type, identifiers: [['opls_467', 'opls_465', 'opls_145'], ['OS', 'C_2', 'CA']] in the Forcefield.",
     "output_type": "error",
     "traceback": [
      "\u001b[31m---------------------------------------------------------------------------\u001b[39m",
      "\u001b[31mParameterizationError\u001b[39m                     Traceback (most recent call last)",
      "\u001b[36mCell\u001b[39m\u001b[36m \u001b[39m\u001b[32mIn[5]\u001b[39m\u001b[32m, line 3\u001b[39m\n\u001b[32m      1\u001b[39m gmso_oplsaa = ForceField(\u001b[33m\"\u001b[39m\u001b[33moplsaa.xml\u001b[39m\u001b[33m\"\u001b[39m)\n\u001b[32m      2\u001b[39m gmso_topology = from_mbuild(comp)\n\u001b[32m----> \u001b[39m\u001b[32m3\u001b[39m \u001b[43mapply\u001b[49m\u001b[43m(\u001b[49m\u001b[43mtop\u001b[49m\u001b[43m=\u001b[49m\u001b[43mgmso_topology\u001b[49m\u001b[43m,\u001b[49m\u001b[43m \u001b[49m\u001b[43mforcefields\u001b[49m\u001b[43m=\u001b[49m\u001b[43mgmso_oplsaa\u001b[49m\u001b[43m,\u001b[49m\u001b[43m \u001b[49m\u001b[43midentify_connections\u001b[49m\u001b[43m=\u001b[49m\u001b[38;5;28;43;01mTrue\u001b[39;49;00m\u001b[43m)\u001b[49m \n",
      "\u001b[36mFile \u001b[39m\u001b[32md:\\programdata\\anaconda3\\envs\\mbuild_env\\Lib\\site-packages\\gmso\\parameterization\\parameterize.py:92\u001b[39m, in \u001b[36mapply\u001b[39m\u001b[34m(top, forcefields, match_ff_by, identify_connections, speedup_by_molgraph, speedup_by_moltag, ignore_params, remove_untyped, fast_copy)\u001b[39m\n\u001b[32m     77\u001b[39m config = TopologyParameterizationConfig.model_validate(\n\u001b[32m     78\u001b[39m     \u001b[38;5;28mdict\u001b[39m(\n\u001b[32m     79\u001b[39m         match_ff_by=match_ff_by,\n\u001b[32m   (...)\u001b[39m\u001b[32m     86\u001b[39m     )\n\u001b[32m     87\u001b[39m )\n\u001b[32m     88\u001b[39m parameterizer = TopologyParameterizer(\n\u001b[32m     89\u001b[39m     topology=top, forcefields=forcefields, config=config\n\u001b[32m     90\u001b[39m )\n\u001b[32m---> \u001b[39m\u001b[32m92\u001b[39m \u001b[43mparameterizer\u001b[49m\u001b[43m.\u001b[49m\u001b[43mrun_parameterization\u001b[49m\u001b[43m(\u001b[49m\u001b[43m)\u001b[49m\n\u001b[32m     94\u001b[39m \u001b[38;5;28;01mreturn\u001b[39;00m parameterizer.topology\n",
      "\u001b[36mFile \u001b[39m\u001b[32md:\\programdata\\anaconda3\\envs\\mbuild_env\\Lib\\site-packages\\gmso\\parameterization\\topology_parameterizer.py:413\u001b[39m, in \u001b[36mTopologyParameterizer.run_parameterization\u001b[39m\u001b[34m(self)\u001b[39m\n\u001b[32m    406\u001b[39m \u001b[38;5;28;01melse\u001b[39;00m:\n\u001b[32m    407\u001b[39m     typemap = \u001b[38;5;28mself\u001b[39m._get_atomtypes(\n\u001b[32m    408\u001b[39m         \u001b[38;5;28mself\u001b[39m.get_ff(),\n\u001b[32m    409\u001b[39m         \u001b[38;5;28mself\u001b[39m.topology,\n\u001b[32m    410\u001b[39m         speedup_by_moltag=\u001b[38;5;28mself\u001b[39m.config.speedup_by_moltag,\n\u001b[32m    411\u001b[39m         use_isomorphic_checks=\u001b[38;5;28mself\u001b[39m.config.speedup_by_molgraph,\n\u001b[32m    412\u001b[39m     )\n\u001b[32m--> \u001b[39m\u001b[32m413\u001b[39m     \u001b[38;5;28;43mself\u001b[39;49m\u001b[43m.\u001b[49m\u001b[43m_parameterize\u001b[49m\u001b[43m(\u001b[49m\n\u001b[32m    414\u001b[39m \u001b[43m        \u001b[49m\u001b[38;5;28;43mself\u001b[39;49m\u001b[43m.\u001b[49m\u001b[43mtopology\u001b[49m\u001b[43m,\u001b[49m\n\u001b[32m    415\u001b[39m \u001b[43m        \u001b[49m\u001b[43mtypemap\u001b[49m\u001b[43m,\u001b[49m\n\u001b[32m    416\u001b[39m \u001b[43m        \u001b[49m\u001b[43mspeedup_by_moltag\u001b[49m\u001b[43m=\u001b[49m\u001b[38;5;28;43mself\u001b[39;49m\u001b[43m.\u001b[49m\u001b[43mconfig\u001b[49m\u001b[43m.\u001b[49m\u001b[43mspeedup_by_moltag\u001b[49m\u001b[43m,\u001b[49m\n\u001b[32m    417\u001b[39m \u001b[43m    \u001b[49m\u001b[43m)\u001b[49m\n\u001b[32m    419\u001b[39m \u001b[38;5;28mself\u001b[39m._set_scaling_factors()  \u001b[38;5;66;03m# Set global or per molecule scaling factors\u001b[39;00m\n\u001b[32m    420\u001b[39m \u001b[38;5;28mself\u001b[39m.topology.update_topology()\n",
      "\u001b[36mFile \u001b[39m\u001b[32md:\\programdata\\anaconda3\\envs\\mbuild_env\\Lib\\site-packages\\gmso\\parameterization\\topology_parameterizer.py:287\u001b[39m, in \u001b[36mTopologyParameterizer._parameterize\u001b[39m\u001b[34m(self, top, typemap, label_type, label, speedup_by_moltag)\u001b[39m\n\u001b[32m    282\u001b[39m     bonds = top.bonds\n\u001b[32m    284\u001b[39m \u001b[38;5;28mself\u001b[39m._parameterize_sites(\n\u001b[32m    285\u001b[39m     sites, typemap, forcefield, speedup_by_moltag=speedup_by_moltag\n\u001b[32m    286\u001b[39m )\n\u001b[32m--> \u001b[39m\u001b[32m287\u001b[39m \u001b[38;5;28;43mself\u001b[39;49m\u001b[43m.\u001b[49m\u001b[43m_parameterize_connections\u001b[49m\u001b[43m(\u001b[49m\n\u001b[32m    288\u001b[39m \u001b[43m    \u001b[49m\u001b[43mtop\u001b[49m\u001b[43m,\u001b[49m\n\u001b[32m    289\u001b[39m \u001b[43m    \u001b[49m\u001b[43mforcefield\u001b[49m\u001b[43m,\u001b[49m\n\u001b[32m    290\u001b[39m \u001b[43m    \u001b[49m\u001b[43mlabel_type\u001b[49m\u001b[43m,\u001b[49m\n\u001b[32m    291\u001b[39m \u001b[43m    \u001b[49m\u001b[43mlabel\u001b[49m\u001b[43m,\u001b[49m\n\u001b[32m    292\u001b[39m \u001b[43m\u001b[49m\u001b[43m)\u001b[49m\n\u001b[32m    293\u001b[39m \u001b[38;5;28;01mif\u001b[39;00m forcefield.virtual_types:\n\u001b[32m    294\u001b[39m     \u001b[38;5;28mself\u001b[39m._parameterize_virtual_sites(top, sites, bonds, forcefield)\n",
      "\u001b[36mFile \u001b[39m\u001b[32md:\\programdata\\anaconda3\\envs\\mbuild_env\\Lib\\site-packages\\gmso\\parameterization\\topology_parameterizer.py:154\u001b[39m, in \u001b[36mTopologyParameterizer._parameterize_connections\u001b[39m\u001b[34m(self, top, ff, label_type, label)\u001b[39m\n\u001b[32m    149\u001b[39m     impropers = top.impropers\n\u001b[32m    151\u001b[39m \u001b[38;5;28mself\u001b[39m._apply_connection_parameters(\n\u001b[32m    152\u001b[39m     bonds, ff, \u001b[38;5;28;01mFalse\u001b[39;00m \u001b[38;5;28;01mif\u001b[39;00m \u001b[33m\"\u001b[39m\u001b[33mbond\u001b[39m\u001b[33m\"\u001b[39m \u001b[38;5;129;01min\u001b[39;00m \u001b[38;5;28mself\u001b[39m.config.ignore_params \u001b[38;5;28;01melse\u001b[39;00m \u001b[38;5;28;01mTrue\u001b[39;00m\n\u001b[32m    153\u001b[39m )\n\u001b[32m--> \u001b[39m\u001b[32m154\u001b[39m \u001b[38;5;28;43mself\u001b[39;49m\u001b[43m.\u001b[49m\u001b[43m_apply_connection_parameters\u001b[49m\u001b[43m(\u001b[49m\n\u001b[32m    155\u001b[39m \u001b[43m    \u001b[49m\u001b[43mangles\u001b[49m\u001b[43m,\u001b[49m\u001b[43m \u001b[49m\u001b[43mff\u001b[49m\u001b[43m,\u001b[49m\u001b[43m \u001b[49m\u001b[38;5;28;43;01mFalse\u001b[39;49;00m\u001b[43m \u001b[49m\u001b[38;5;28;43;01mif\u001b[39;49;00m\u001b[43m \u001b[49m\u001b[33;43m\"\u001b[39;49m\u001b[33;43mangle\u001b[39;49m\u001b[33;43m\"\u001b[39;49m\u001b[43m \u001b[49m\u001b[38;5;129;43;01min\u001b[39;49;00m\u001b[43m \u001b[49m\u001b[38;5;28;43mself\u001b[39;49m\u001b[43m.\u001b[49m\u001b[43mconfig\u001b[49m\u001b[43m.\u001b[49m\u001b[43mignore_params\u001b[49m\u001b[43m \u001b[49m\u001b[38;5;28;43;01melse\u001b[39;49;00m\u001b[43m \u001b[49m\u001b[38;5;28;43;01mTrue\u001b[39;49;00m\n\u001b[32m    156\u001b[39m \u001b[43m\u001b[49m\u001b[43m)\u001b[49m\n\u001b[32m    157\u001b[39m \u001b[38;5;28mself\u001b[39m._apply_connection_parameters(\n\u001b[32m    158\u001b[39m     dihedrals,\n\u001b[32m    159\u001b[39m     ff,\n\u001b[32m    160\u001b[39m     \u001b[38;5;28;01mFalse\u001b[39;00m \u001b[38;5;28;01mif\u001b[39;00m \u001b[33m\"\u001b[39m\u001b[33mdihedral\u001b[39m\u001b[33m\"\u001b[39m \u001b[38;5;129;01min\u001b[39;00m \u001b[38;5;28mself\u001b[39m.config.ignore_params \u001b[38;5;28;01melse\u001b[39;00m \u001b[38;5;28;01mTrue\u001b[39;00m,\n\u001b[32m    161\u001b[39m )\n\u001b[32m    162\u001b[39m \u001b[38;5;28mself\u001b[39m._apply_connection_parameters(\n\u001b[32m    163\u001b[39m     impropers,\n\u001b[32m    164\u001b[39m     ff,\n\u001b[32m    165\u001b[39m     \u001b[38;5;28;01mFalse\u001b[39;00m \u001b[38;5;28;01mif\u001b[39;00m \u001b[33m\"\u001b[39m\u001b[33mimproper\u001b[39m\u001b[33m\"\u001b[39m \u001b[38;5;129;01min\u001b[39;00m \u001b[38;5;28mself\u001b[39m.config.ignore_params \u001b[38;5;28;01melse\u001b[39;00m \u001b[38;5;28;01mTrue\u001b[39;00m,\n\u001b[32m    166\u001b[39m )\n",
      "\u001b[36mFile \u001b[39m\u001b[32md:\\programdata\\anaconda3\\envs\\mbuild_env\\Lib\\site-packages\\gmso\\parameterization\\topology_parameterizer.py:214\u001b[39m, in \u001b[36mTopologyParameterizer._apply_connection_parameters\u001b[39m\u001b[34m(self, connections, ff, error_on_missing)\u001b[39m\n\u001b[32m    211\u001b[39m         \u001b[38;5;28;01mbreak\u001b[39;00m\n\u001b[32m    213\u001b[39m \u001b[38;5;28;01mif\u001b[39;00m \u001b[38;5;129;01mnot\u001b[39;00m match \u001b[38;5;129;01mand\u001b[39;00m error_on_missing:\n\u001b[32m--> \u001b[39m\u001b[32m214\u001b[39m     \u001b[38;5;28;01mraise\u001b[39;00m ParameterizationError(\n\u001b[32m    215\u001b[39m         \u001b[33mf\u001b[39m\u001b[33m\"\u001b[39m\u001b[33mNo parameters found for connection \u001b[39m\u001b[38;5;132;01m{\u001b[39;00mconnection\u001b[38;5;132;01m}\u001b[39;00m\u001b[33m, group: \u001b[39m\u001b[38;5;132;01m{\u001b[39;00mgroup\u001b[38;5;132;01m}\u001b[39;00m\u001b[33m, \u001b[39m\u001b[33m\"\u001b[39m\n\u001b[32m    216\u001b[39m         \u001b[33mf\u001b[39m\u001b[33m\"\u001b[39m\u001b[33midentifiers: \u001b[39m\u001b[38;5;132;01m{\u001b[39;00mconnection_identifiers\u001b[38;5;132;01m}\u001b[39;00m\u001b[33m in the Forcefield.\u001b[39m\u001b[33m\"\u001b[39m\n\u001b[32m    217\u001b[39m     )\n\u001b[32m    218\u001b[39m \u001b[38;5;28;01melif\u001b[39;00m match:\n\u001b[32m    219\u001b[39m     \u001b[38;5;28msetattr\u001b[39m(connection, group, match[\u001b[32m0\u001b[39m].clone(\u001b[38;5;28mself\u001b[39m.config.fast_copy))\n",
      "\u001b[31mParameterizationError\u001b[39m: No parameters found for connection <Angle Angle, id: 2546552023760> , group: angle_type, identifiers: [['opls_467', 'opls_465', 'opls_145'], ['OS', 'C_2', 'CA']] in the Forcefield."
     ]
    }
   ],
   "source": [
    "gmso_oplsaa = ForceField(\"oplsaa.xml\")\n",
    "gmso_topology = from_mbuild(comp)\n",
    "apply(top=gmso_topology, forcefields=gmso_oplsaa, identify_connections=True) "
   ]
  },
  {
   "cell_type": "markdown",
   "id": "0b744f74",
   "metadata": {},
   "source": [
    "_**Check the Order of Atoms**_"
   ]
  },
  {
   "cell_type": "code",
   "execution_count": 6,
   "id": "334242c3",
   "metadata": {},
   "outputs": [
    {
     "data": {
      "image/jpeg": "[encoded data removed]",
      "image/png": "[encoded data removed]",
      "text/plain": [
       "<PIL.PngImagePlugin.PngImageFile image mode=RGB size=300x300>"
      ]
     },
     "metadata": {},
     "output_type": "display_data"
    }
   ],
   "source": [
    "comp_rdkmol=comp.to_rdkit()\n",
    "img=Draw.MolToImage(comp_rdkmol)\n",
    "display(img)"
   ]
  },
  {
   "cell_type": "markdown",
   "id": "7ae824a2",
   "metadata": {},
   "source": [
    "_**Build the Structure of Single chain**_"
   ]
  },
  {
   "cell_type": "code",
   "execution_count": null,
   "id": "39bc35dd",
   "metadata": {},
   "outputs": [],
   "source": [
    "chain = Polymer()\n",
    "\n",
    "chain.add_monomer(compound=comp,\n",
    "                  indices=[26, 45],\n",
    "                  separation=.154,\n",
    "                  replace=True)\n",
    "chain.add_end_groups(mb.load('[H]CCOC(=O)CCCCC(=O)OCCOC(=O)c1ccc(C(=O)O[H])cc1',smiles=True), \n",
    "                     index=26,\n",
    "                     separation=0.154, label=\"head\", duplicate=False)\n",
    "\n",
    "chain.add_end_groups(mb.load('[H]CCOC(=O)CCCCC(=O)OCCOC(=O)c1ccc(C(=O)O[H])cc1',smiles=True), \n",
    "                     index=45,\n",
    "                     separation=0.154, label=\"tail\", duplicate=False)\n",
    "chain.build(n=20, sequence='A')\n",
    "chain.visualize(show_ports=True)\n"
   ]
  },
  {
   "cell_type": "code",
   "execution_count": null,
   "id": "67b90808",
   "metadata": {},
   "outputs": [],
   "source": [
    "chain.save('chain.pdb')"
   ]
  },
  {
   "cell_type": "markdown",
   "id": "d4b5a4df",
   "metadata": {},
   "source": [
    "_**Apply the Force Field to the Single Chain**_"
   ]
  },
  {
   "cell_type": "code",
   "execution_count": null,
   "metadata": {},
   "outputs": [],
   "source": [
    "gmso_oplsaa = ForceField(\"oplsaa.xml\")\n",
    "gmso_topology = from_mbuild(chain)\n",
    "apply(top=gmso_topology, forcefields=gmso_oplsaa, identify_connections=True) "
   ]
  },
  {
   "cell_type": "markdown",
   "id": "37995e00",
   "metadata": {},
   "source": [
    "_**Build the Structure of System Containing Several Chains**_"
   ]
  },
  {
   "cell_type": "code",
   "execution_count": null,
   "id": "6c1d941b",
   "metadata": {},
   "outputs": [],
   "source": [
    "# the pattern we generate puts points in the xy-plane, so we'll rotate the polymer\n",
    "# so that it is oriented normal to the xy-plane\n",
    "chain.rotate(np.pi/2, [1, 0, 0])\n",
    "\n",
    "# define a compound to hold all the polymers\n",
    "system = mb.Compound()\n",
    "\n",
    "# create a pattern of points to fill a disk\n",
    "# patterns are generated between 0 and 1,\n",
    "# and thus need to be scaled to provide appropriate spacing\n",
    "pattern_disk = mb.DiskPattern(50)\n",
    "pattern_disk.scale(5)\n",
    "\n",
    "# now clone the polymer and move it to the points in the pattern\n",
    "for pos in pattern_disk:\n",
    "    current_polymer = mb.clone(chain)\n",
    "    current_polymer.translate(pos)\n",
    "    system.add(current_polymer)\n",
    "\n",
    "system.visualize()\n"
   ]
  },
  {
   "cell_type": "code",
   "execution_count": null,
   "id": "34249385",
   "metadata": {},
   "outputs": [],
   "source": [
    "system.save('system.pdb')"
   ]
  },
  {
   "cell_type": "markdown",
   "id": "ee0cb20b",
   "metadata": {},
   "source": [
    "_**Apply the Force Field to the System**_"
   ]
  },
  {
   "cell_type": "code",
   "execution_count": null,
   "id": "f2a49bea",
   "metadata": {},
   "outputs": [],
   "source": [
    "gmso_oplsaa = ForceField(\"oplsaa.xml\")\n",
    "gmso_topology = from_mbuild(system)\n",
    "apply(top=gmso_topology, forcefields=gmso_oplsaa, identify_connections=True) "
   ]
  }
 ],
 "metadata": {
  "kernelspec": {
   "display_name": "mbuild_env",
   "language": "python",
   "name": "python3"
  },
  "language_info": {
   "codemirror_mode": {
    "name": "ipython",
    "version": 3
   },
   "file_extension": ".py",
   "mimetype": "text/x-python",
   "name": "python",
   "nbconvert_exporter": "python",
   "pygments_lexer": "ipython3",
   "version": "3.12.0"
  }
 },
 "nbformat": 4,
 "nbformat_minor": 5
}
