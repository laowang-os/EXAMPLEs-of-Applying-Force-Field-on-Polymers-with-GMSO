{
 "cells": [
  {
   "cell_type": "markdown",
   "id": "b1815751",
   "metadata": {},
   "source": [
    "_**Import PKGs**_"
   ]
  },
  {
   "cell_type": "code",
   "execution_count": 1,
   "id": "69872561",
   "metadata": {},
   "outputs": [],
   "source": [
    "import gmso \n",
    "import random\n",
    "import numpy as np\n",
    "import mbuild as mb\n",
    "from gmso.core.forcefield import ForceField\n",
    "from gmso.external import from_mbuild\n",
    "from gmso.parameterization import apply\n",
    "from mbuild.lib.recipes.polymer import Polymer\n",
    "from rdkit.Chem import Draw\n",
    "from IPython.display import display"
   ]
  },
  {
   "cell_type": "markdown",
   "id": "9eb0997b",
   "metadata": {},
   "source": [
    "_**Build the Structure of Repeat Unit**_"
   ]
  },
  {
   "cell_type": "code",
   "execution_count": 2,
   "id": "a5f5de78",
   "metadata": {},
   "outputs": [
    {
     "name": "stderr",
     "output_type": "stream",
     "text": [
      "d:\\programdata\\anaconda3\\envs\\mbuild_env\\Lib\\site-packages\\mbuild\\compound.py:546: UserWarning: Some particle of <Compound 32 particles, 31 bonds, non-periodic, id: 2741438245360> does not have a charge.They will not be accounted for during this calculation.\n",
      "  warn(\n"
     ]
    },
    {
     "data": {
      "application/3dmoljs_load.v0": "<div id=\"3dmolviewer_17546416845523436\"  style=\"position: relative; width: 640px; height: 480px;\">\n        <p id=\"3dmolwarning_17546416845523436\" style=\"background-color:#ffcccc;color:black\">3Dmol.js failed to load for some reason.  Please check your browser console for error messages.<br></p>\n        </div>\n<script>\n\nvar loadScriptAsync = function(uri){\n  return new Promise((resolve, reject) => {\n    //this is to ignore the existence of requirejs amd\n    var savedexports, savedmodule;\n    if (typeof exports !== 'undefined') savedexports = exports;\n    else exports = {}\n    if (typeof module !== 'undefined') savedmodule = module;\n    else module = {}\n\n    var tag = document.createElement('script');\n    tag.src = uri;\n    tag.async = true;\n    tag.onload = () => {\n        exports = savedexports;\n        module = savedmodule;\n        resolve();\n    };\n  var firstScriptTag = document.getElementsByTagName('script')[0];\n  firstScriptTag.parentNode.insertBefore(tag, firstScriptTag);\n});\n};\n\nif(typeof $3Dmolpromise === 'undefined') {\n$3Dmolpromise = null;\n  $3Dmolpromise = loadScriptAsync('https://cdn.jsdelivr.net/npm/3dmol@2.5.1/build/3Dmol-min.js');\n}\n\nvar viewer_17546416845523436 = null;\nvar warn = document.getElementById(\"3dmolwarning_17546416845523436\");\nif(warn) {\n    warn.parentNode.removeChild(warn);\n}\n$3Dmolpromise.then(function() {\nviewer_17546416845523436 = $3Dmol.createViewer(document.getElementById(\"3dmolviewer_17546416845523436\"),{backgroundColor:\"white\"});\nviewer_17546416845523436.zoomTo();\n\tviewer_17546416845523436.addModel(\"@<TRIPOS>MOLECULE\\nRES\\n32 31 1 0 1\\nSMALL\\nNO_CHARGES\\n@<TRIPOS>CRYSIN\\n   14.9620    11.3976    10.4213    90.0000    90.0000    90.0000 1 1\\n@<TRIPOS>ATOM\\n       1 N           -1.4924    -1.3739     2.0960 N             1 RES     \\n       2 P           -0.5032    -1.5061     0.8776 P             1 RES     \\n       3 O            1.0961    -1.3665     1.4436 O             1 RES     \\n       4 C            1.9587    -1.7148     0.3865 C             1 RES     \\n       5 C            3.4103    -1.5302     0.8297 C             1 RES     \\n       6 C            3.7091    -0.0877     1.1472 C             1 RES     \\n       7 O            3.6631     0.2853     2.3499 O             1 RES     \\n       8 C            4.0208     0.9228     0.1130 C             1 RES     \\n       9 C            4.0597     0.6651    -1.1941 C             1 RES     \\n      10 O           -0.8134    -0.2558    -0.2376 O             1 RES     \\n      11 C           -1.8609    -0.6742    -1.0796 C             1 RES     \\n      12 C           -2.2160     0.4508    -2.0509 C             1 RES     \\n      13 C           -2.7244     1.6590    -1.3190 C             1 RES     \\n      14 O           -1.9280     2.5999    -1.0512 O             1 RES     \\n      15 C           -4.1330     1.7203    -0.8830 C             1 RES     \\n      16 C           -4.6292     2.7581    -0.2121 C             1 RES     \\n      17 H           -1.5015    -0.5133     2.6609 H             1 RES     \\n      18 H           -0.6836    -2.7724     0.2829 H             1 RES     \\n      19 H            1.7735    -1.0822    -0.5120 H             1 RES     \\n      20 H            1.8191    -2.7853     0.1122 H             1 RES     \\n      21 H            4.0983    -1.9018     0.0414 H             1 RES     \\n      22 H            3.5945    -2.1541     1.7319 H             1 RES     \\n      23 H            4.2259     1.9355     0.4389 H             1 RES     \\n      24 H            3.8607    -0.3178    -1.5967 H             1 RES     \\n      25 H            4.2934     1.4606    -1.8895 H             1 RES     \\n      26 H           -1.5434    -1.5562    -1.6811 H             1 RES     \\n      27 H           -2.7709    -0.9392    -0.4920 H             1 RES     \\n      28 H           -1.3174     0.7219    -2.6473 H             1 RES     \\n      29 H           -2.9930     0.0921    -2.7603 H             1 RES     \\n      30 H           -4.7887     0.8895    -1.1138 H             1 RES     \\n      31 H           -5.6686     2.7579     0.0892 H             1 RES     \\n      32 H           -4.0155     3.6124     0.0445 H             1 RES     \\n@<TRIPOS>BOND\\n       1        1        2 1\\n       2        1       17 1\\n       3        2        3 1\\n       4        2       10 1\\n       5        2       18 1\\n       6        3        4 1\\n       7        4        5 1\\n       8        4       19 1\\n       9        4       20 1\\n      10        5        6 1\\n      11        5       21 1\\n      12        5       22 1\\n      13        6        7 1\\n      14        6        8 1\\n      15        8        9 1\\n      16        8       23 1\\n      17        9       24 1\\n      18        9       25 1\\n      19       10       11 1\\n      20       11       12 1\\n      21       11       26 1\\n      22       11       27 1\\n      23       12       13 1\\n      24       12       28 1\\n      25       12       29 1\\n      26       13       14 1\\n      27       13       15 1\\n      28       15       16 1\\n      29       15       30 1\\n      30       16       31 1\\n      31       16       32 1\\n@<TRIPOS>SUBSTRUCTURE\\n       1 RES             1 RESIDUE    0 **** ROOT      0\\n\",\"mol2\");\n\tviewer_17546416845523436.setStyle({\"stick\": {\"radius\": 0.18, \"color\": \"grey\"}, \"sphere\": {\"scale\": 0.3, \"colorscheme\": {}}});\n\tviewer_17546416845523436.zoomTo();\nviewer_17546416845523436.render();\n});\n</script>",
      "text/html": [
       "<div id=\"3dmolviewer_17546416845523436\"  style=\"position: relative; width: 640px; height: 480px;\">\n",
       "        <p id=\"3dmolwarning_17546416845523436\" style=\"background-color:#ffcccc;color:black\">3Dmol.js failed to load for some reason.  Please check your browser console for error messages.<br></p>\n",
       "        </div>\n",
       "<script>\n",
       "\n",
       "var loadScriptAsync = function(uri){\n",
       "  return new Promise((resolve, reject) => {\n",
       "    //this is to ignore the existence of requirejs amd\n",
       "    var savedexports, savedmodule;\n",
       "    if (typeof exports !== 'undefined') savedexports = exports;\n",
       "    else exports = {}\n",
       "    if (typeof module !== 'undefined') savedmodule = module;\n",
       "    else module = {}\n",
       "\n",
       "    var tag = document.createElement('script');\n",
       "    tag.src = uri;\n",
       "    tag.async = true;\n",
       "    tag.onload = () => {\n",
       "        exports = savedexports;\n",
       "        module = savedmodule;\n",
       "        resolve();\n",
       "    };\n",
       "  var firstScriptTag = document.getElementsByTagName('script')[0];\n",
       "  firstScriptTag.parentNode.insertBefore(tag, firstScriptTag);\n",
       "});\n",
       "};\n",
       "\n",
       "if(typeof $3Dmolpromise === 'undefined') {\n",
       "$3Dmolpromise = null;\n",
       "  $3Dmolpromise = loadScriptAsync('https://cdn.jsdelivr.net/npm/3dmol@2.5.1/build/3Dmol-min.js');\n",
       "}\n",
       "\n",
       "var viewer_17546416845523436 = null;\n",
       "var warn = document.getElementById(\"3dmolwarning_17546416845523436\");\n",
       "if(warn) {\n",
       "    warn.parentNode.removeChild(warn);\n",
       "}\n",
       "$3Dmolpromise.then(function() {\n",
       "viewer_17546416845523436 = $3Dmol.createViewer(document.getElementById(\"3dmolviewer_17546416845523436\"),{backgroundColor:\"white\"});\n",
       "viewer_17546416845523436.zoomTo();\n",
       "\tviewer_17546416845523436.addModel(\"@<TRIPOS>MOLECULE\\nRES\\n32 31 1 0 1\\nSMALL\\nNO_CHARGES\\n@<TRIPOS>CRYSIN\\n   14.9620    11.3976    10.4213    90.0000    90.0000    90.0000 1 1\\n@<TRIPOS>ATOM\\n       1 N           -1.4924    -1.3739     2.0960 N             1 RES     \\n       2 P           -0.5032    -1.5061     0.8776 P             1 RES     \\n       3 O            1.0961    -1.3665     1.4436 O             1 RES     \\n       4 C            1.9587    -1.7148     0.3865 C             1 RES     \\n       5 C            3.4103    -1.5302     0.8297 C             1 RES     \\n       6 C            3.7091    -0.0877     1.1472 C             1 RES     \\n       7 O            3.6631     0.2853     2.3499 O             1 RES     \\n       8 C            4.0208     0.9228     0.1130 C             1 RES     \\n       9 C            4.0597     0.6651    -1.1941 C             1 RES     \\n      10 O           -0.8134    -0.2558    -0.2376 O             1 RES     \\n      11 C           -1.8609    -0.6742    -1.0796 C             1 RES     \\n      12 C           -2.2160     0.4508    -2.0509 C             1 RES     \\n      13 C           -2.7244     1.6590    -1.3190 C             1 RES     \\n      14 O           -1.9280     2.5999    -1.0512 O             1 RES     \\n      15 C           -4.1330     1.7203    -0.8830 C             1 RES     \\n      16 C           -4.6292     2.7581    -0.2121 C             1 RES     \\n      17 H           -1.5015    -0.5133     2.6609 H             1 RES     \\n      18 H           -0.6836    -2.7724     0.2829 H             1 RES     \\n      19 H            1.7735    -1.0822    -0.5120 H             1 RES     \\n      20 H            1.8191    -2.7853     0.1122 H             1 RES     \\n      21 H            4.0983    -1.9018     0.0414 H             1 RES     \\n      22 H            3.5945    -2.1541     1.7319 H             1 RES     \\n      23 H            4.2259     1.9355     0.4389 H             1 RES     \\n      24 H            3.8607    -0.3178    -1.5967 H             1 RES     \\n      25 H            4.2934     1.4606    -1.8895 H             1 RES     \\n      26 H           -1.5434    -1.5562    -1.6811 H             1 RES     \\n      27 H           -2.7709    -0.9392    -0.4920 H             1 RES     \\n      28 H           -1.3174     0.7219    -2.6473 H             1 RES     \\n      29 H           -2.9930     0.0921    -2.7603 H             1 RES     \\n      30 H           -4.7887     0.8895    -1.1138 H             1 RES     \\n      31 H           -5.6686     2.7579     0.0892 H             1 RES     \\n      32 H           -4.0155     3.6124     0.0445 H             1 RES     \\n@<TRIPOS>BOND\\n       1        1        2 1\\n       2        1       17 1\\n       3        2        3 1\\n       4        2       10 1\\n       5        2       18 1\\n       6        3        4 1\\n       7        4        5 1\\n       8        4       19 1\\n       9        4       20 1\\n      10        5        6 1\\n      11        5       21 1\\n      12        5       22 1\\n      13        6        7 1\\n      14        6        8 1\\n      15        8        9 1\\n      16        8       23 1\\n      17        9       24 1\\n      18        9       25 1\\n      19       10       11 1\\n      20       11       12 1\\n      21       11       26 1\\n      22       11       27 1\\n      23       12       13 1\\n      24       12       28 1\\n      25       12       29 1\\n      26       13       14 1\\n      27       13       15 1\\n      28       15       16 1\\n      29       15       30 1\\n      30       16       31 1\\n      31       16       32 1\\n@<TRIPOS>SUBSTRUCTURE\\n       1 RES             1 RESIDUE    0 **** ROOT      0\\n\",\"mol2\");\n",
       "\tviewer_17546416845523436.setStyle({\"stick\": {\"radius\": 0.18, \"color\": \"grey\"}, \"sphere\": {\"scale\": 0.3, \"colorscheme\": {}}});\n",
       "\tviewer_17546416845523436.zoomTo();\n",
       "viewer_17546416845523436.render();\n",
       "});\n",
       "</script>"
      ]
     },
     "metadata": {},
     "output_type": "display_data"
    },
    {
     "data": {
      "text/plain": [
       "<py3Dmol.view at 0x27e4a58f9b0>"
      ]
     },
     "execution_count": 2,
     "metadata": {},
     "output_type": "execute_result"
    }
   ],
   "source": [
    "comp = mb.load('[H]N=P([H])(OCCC(=O)C=C)OCCC(=O)C=C', smiles=True) \n",
    "comp.visualize()\n"
   ]
  },
  {
   "cell_type": "code",
   "execution_count": 3,
   "id": "429f00fa",
   "metadata": {},
   "outputs": [
    {
     "name": "stderr",
     "output_type": "stream",
     "text": [
      "d:\\programdata\\anaconda3\\envs\\mbuild_env\\Lib\\site-packages\\mbuild\\compound.py:546: UserWarning: Some particle of <Compound 32 particles, 31 bonds, non-periodic, id: 2741425912816> does not have a charge.They will not be accounted for during this calculation.\n",
      "  warn(\n"
     ]
    }
   ],
   "source": [
    "comp.save('comp.pdb')"
   ]
  },
  {
   "cell_type": "markdown",
   "id": "bb57d9dc",
   "metadata": {},
   "source": [
    "_**Apply the Force Field to the Repeat Unit Mol**_"
   ]
  },
  {
   "cell_type": "code",
   "execution_count": 4,
   "id": "2e92d9fd",
   "metadata": {},
   "outputs": [
    {
     "name": "stderr",
     "output_type": "stream",
     "text": [
      "d:\\programdata\\anaconda3\\envs\\mbuild_env\\Lib\\site-packages\\gmso\\core\\atom_type.py:236: UserWarning: Masses are assumed to be in units of g/mol\n",
      "  warnings.warn(UNIT_WARNING_STRING.format(\"Masses\", \"g/mol\"))\n",
      "d:\\programdata\\anaconda3\\envs\\mbuild_env\\Lib\\site-packages\\gmso\\core\\atom_type.py:248: UserWarning: Charges are assumed to be in units of elementary charge\n",
      "  warnings.warn(UNIT_WARNING_STRING.format(\"Charges\", \"elementary charge\"))\n"
     ]
    },
    {
     "ename": "FoyerError",
     "evalue": "Found no types for atom numbered 0 which is atomic number 7. Forcefield file is missing this atomtype, so try to add SMARTS definitions to account for this atom.",
     "output_type": "error",
     "traceback": [
      "\u001b[31m---------------------------------------------------------------------------\u001b[39m",
      "\u001b[31mFoyerError\u001b[39m                                Traceback (most recent call last)",
      "\u001b[36mCell\u001b[39m\u001b[36m \u001b[39m\u001b[32mIn[4]\u001b[39m\u001b[32m, line 3\u001b[39m\n\u001b[32m      1\u001b[39m gmso_oplsaa = ForceField(\u001b[33m\"\u001b[39m\u001b[33moplsaa.xml\u001b[39m\u001b[33m\"\u001b[39m)\n\u001b[32m      2\u001b[39m gmso_topology = from_mbuild(comp)\n\u001b[32m----> \u001b[39m\u001b[32m3\u001b[39m \u001b[43mapply\u001b[49m\u001b[43m(\u001b[49m\u001b[43mtop\u001b[49m\u001b[43m=\u001b[49m\u001b[43mgmso_topology\u001b[49m\u001b[43m,\u001b[49m\u001b[43m \u001b[49m\u001b[43mforcefields\u001b[49m\u001b[43m=\u001b[49m\u001b[43mgmso_oplsaa\u001b[49m\u001b[43m,\u001b[49m\u001b[43m \u001b[49m\u001b[43midentify_connections\u001b[49m\u001b[43m=\u001b[49m\u001b[38;5;28;43;01mTrue\u001b[39;49;00m\u001b[43m)\u001b[49m \n",
      "\u001b[36mFile \u001b[39m\u001b[32md:\\programdata\\anaconda3\\envs\\mbuild_env\\Lib\\site-packages\\gmso\\parameterization\\parameterize.py:92\u001b[39m, in \u001b[36mapply\u001b[39m\u001b[34m(top, forcefields, match_ff_by, identify_connections, speedup_by_molgraph, speedup_by_moltag, ignore_params, remove_untyped, fast_copy)\u001b[39m\n\u001b[32m     77\u001b[39m config = TopologyParameterizationConfig.model_validate(\n\u001b[32m     78\u001b[39m     \u001b[38;5;28mdict\u001b[39m(\n\u001b[32m     79\u001b[39m         match_ff_by=match_ff_by,\n\u001b[32m   (...)\u001b[39m\u001b[32m     86\u001b[39m     )\n\u001b[32m     87\u001b[39m )\n\u001b[32m     88\u001b[39m parameterizer = TopologyParameterizer(\n\u001b[32m     89\u001b[39m     topology=top, forcefields=forcefields, config=config\n\u001b[32m     90\u001b[39m )\n\u001b[32m---> \u001b[39m\u001b[32m92\u001b[39m \u001b[43mparameterizer\u001b[49m\u001b[43m.\u001b[49m\u001b[43mrun_parameterization\u001b[49m\u001b[43m(\u001b[49m\u001b[43m)\u001b[49m\n\u001b[32m     94\u001b[39m \u001b[38;5;28;01mreturn\u001b[39;00m parameterizer.topology\n",
      "\u001b[36mFile \u001b[39m\u001b[32md:\\programdata\\anaconda3\\envs\\mbuild_env\\Lib\\site-packages\\gmso\\parameterization\\topology_parameterizer.py:407\u001b[39m, in \u001b[36mTopologyParameterizer.run_parameterization\u001b[39m\u001b[34m(self)\u001b[39m\n\u001b[32m    399\u001b[39m             \u001b[38;5;28mself\u001b[39m._parameterize(\n\u001b[32m    400\u001b[39m                 \u001b[38;5;28mself\u001b[39m.topology,\n\u001b[32m    401\u001b[39m                 typemap,\n\u001b[32m   (...)\u001b[39m\u001b[32m    404\u001b[39m                 speedup_by_moltag=\u001b[38;5;28mself\u001b[39m.config.speedup_by_moltag,  \u001b[38;5;66;03m# This will be removed from the future iterations\u001b[39;00m\n\u001b[32m    405\u001b[39m             )\n\u001b[32m    406\u001b[39m \u001b[38;5;28;01melse\u001b[39;00m:\n\u001b[32m--> \u001b[39m\u001b[32m407\u001b[39m     typemap = \u001b[38;5;28;43mself\u001b[39;49m\u001b[43m.\u001b[49m\u001b[43m_get_atomtypes\u001b[49m\u001b[43m(\u001b[49m\n\u001b[32m    408\u001b[39m \u001b[43m        \u001b[49m\u001b[38;5;28;43mself\u001b[39;49m\u001b[43m.\u001b[49m\u001b[43mget_ff\u001b[49m\u001b[43m(\u001b[49m\u001b[43m)\u001b[49m\u001b[43m,\u001b[49m\n\u001b[32m    409\u001b[39m \u001b[43m        \u001b[49m\u001b[38;5;28;43mself\u001b[39;49m\u001b[43m.\u001b[49m\u001b[43mtopology\u001b[49m\u001b[43m,\u001b[49m\n\u001b[32m    410\u001b[39m \u001b[43m        \u001b[49m\u001b[43mspeedup_by_moltag\u001b[49m\u001b[43m=\u001b[49m\u001b[38;5;28;43mself\u001b[39;49m\u001b[43m.\u001b[49m\u001b[43mconfig\u001b[49m\u001b[43m.\u001b[49m\u001b[43mspeedup_by_moltag\u001b[49m\u001b[43m,\u001b[49m\n\u001b[32m    411\u001b[39m \u001b[43m        \u001b[49m\u001b[43muse_isomorphic_checks\u001b[49m\u001b[43m=\u001b[49m\u001b[38;5;28;43mself\u001b[39;49m\u001b[43m.\u001b[49m\u001b[43mconfig\u001b[49m\u001b[43m.\u001b[49m\u001b[43mspeedup_by_molgraph\u001b[49m\u001b[43m,\u001b[49m\n\u001b[32m    412\u001b[39m \u001b[43m    \u001b[49m\u001b[43m)\u001b[49m\n\u001b[32m    413\u001b[39m     \u001b[38;5;28mself\u001b[39m._parameterize(\n\u001b[32m    414\u001b[39m         \u001b[38;5;28mself\u001b[39m.topology,\n\u001b[32m    415\u001b[39m         typemap,\n\u001b[32m    416\u001b[39m         speedup_by_moltag=\u001b[38;5;28mself\u001b[39m.config.speedup_by_moltag,\n\u001b[32m    417\u001b[39m     )\n\u001b[32m    419\u001b[39m \u001b[38;5;28mself\u001b[39m._set_scaling_factors()  \u001b[38;5;66;03m# Set global or per molecule scaling factors\u001b[39;00m\n",
      "\u001b[36mFile \u001b[39m\u001b[32md:\\programdata\\anaconda3\\envs\\mbuild_env\\Lib\\site-packages\\gmso\\parameterization\\topology_parameterizer.py:534\u001b[39m, in \u001b[36mTopologyParameterizer._get_atomtypes\u001b[39m\u001b[34m(forcefield, topology, label_type, label, speedup_by_moltag, use_isomorphic_checks)\u001b[39m\n\u001b[32m    531\u001b[39m     \u001b[38;5;28;01mreturn\u001b[39;00m typemap\n\u001b[32m    533\u001b[39m \u001b[38;5;28;01melse\u001b[39;00m:\n\u001b[32m--> \u001b[39m\u001b[32m534\u001b[39m     \u001b[38;5;28;01mreturn\u001b[39;00m \u001b[43mtypemap_dict\u001b[49m\u001b[43m(\u001b[49m\n\u001b[32m    535\u001b[39m \u001b[43m        \u001b[49m\u001b[43mtopology_graph\u001b[49m\u001b[43m=\u001b[49m\u001b[43mfoyer_topology_graph\u001b[49m\u001b[43m,\u001b[49m\n\u001b[32m    536\u001b[39m \u001b[43m        \u001b[49m\u001b[43matomtyping_rules_provider\u001b[49m\u001b[43m=\u001b[49m\u001b[43matom_typing_rules_provider\u001b[49m\u001b[43m,\u001b[49m\n\u001b[32m    537\u001b[39m \u001b[43m    \u001b[49m\u001b[43m)\u001b[49m\n",
      "\u001b[36mFile \u001b[39m\u001b[32md:\\programdata\\anaconda3\\envs\\mbuild_env\\Lib\\site-packages\\gmso\\parameterization\\foyer_utils.py:122\u001b[39m, in \u001b[36mtypemap_dict\u001b[39m\u001b[34m(topology_graph, atomtyping_rules_provider, max_iter)\u001b[39m\n\u001b[32m    120\u001b[39m \u001b[38;5;28;01mdef\u001b[39;00m\u001b[38;5;250m \u001b[39m\u001b[34mtypemap_dict\u001b[39m(topology_graph, atomtyping_rules_provider, max_iter=\u001b[32m10\u001b[39m):\n\u001b[32m    121\u001b[39m \u001b[38;5;250m    \u001b[39m\u001b[33;03m\"\"\"Return a dictionary of typemap, by finding atomtypes in foyer.\"\"\"\u001b[39;00m\n\u001b[32m--> \u001b[39m\u001b[32m122\u001b[39m     \u001b[38;5;28;01mreturn\u001b[39;00m \u001b[43mfind_atomtypes\u001b[49m\u001b[43m(\u001b[49m\u001b[43mtopology_graph\u001b[49m\u001b[43m,\u001b[49m\u001b[43m \u001b[49m\u001b[43matomtyping_rules_provider\u001b[49m\u001b[43m,\u001b[49m\u001b[43m \u001b[49m\u001b[43mmax_iter\u001b[49m\u001b[43m)\u001b[49m\n",
      "\u001b[36mFile \u001b[39m\u001b[32md:\\programdata\\anaconda3\\envs\\mbuild_env\\Lib\\site-packages\\foyer\\atomtyper.py:146\u001b[39m, in \u001b[36mfind_atomtypes\u001b[39m\u001b[34m(structure, forcefield, max_iter)\u001b[39m\n\u001b[32m    143\u001b[39m rules = subrules\n\u001b[32m    145\u001b[39m _iterate_rules(rules, topology_graph, typemap, max_iter=max_iter)\n\u001b[32m--> \u001b[39m\u001b[32m146\u001b[39m \u001b[43m_resolve_atomtypes\u001b[49m\u001b[43m(\u001b[49m\u001b[43mtopology_graph\u001b[49m\u001b[43m,\u001b[49m\u001b[43m \u001b[49m\u001b[43mtypemap\u001b[49m\u001b[43m)\u001b[49m\n\u001b[32m    148\u001b[39m \u001b[38;5;28;01mreturn\u001b[39;00m typemap\n",
      "\u001b[36mFile \u001b[39m\u001b[32md:\\programdata\\anaconda3\\envs\\mbuild_env\\Lib\\site-packages\\foyer\\atomtyper.py:221\u001b[39m, in \u001b[36m_resolve_atomtypes\u001b[39m\u001b[34m(topology_graph, typemap)\u001b[39m\n\u001b[32m    215\u001b[39m     \u001b[38;5;28;01mraise\u001b[39;00m FoyerError(\n\u001b[32m    216\u001b[39m         \u001b[33m\"\u001b[39m\u001b[33mFound multiple types for atom \u001b[39m\u001b[38;5;132;01m{}\u001b[39;00m\u001b[33m (\u001b[39m\u001b[38;5;132;01m{}\u001b[39;00m\u001b[33m): \u001b[39m\u001b[38;5;132;01m{}\u001b[39;00m\u001b[33m.\u001b[39m\u001b[33m\"\u001b[39m.format(\n\u001b[32m    217\u001b[39m             atom_id, atoms[atom_id].atomic_number, atomtype\n\u001b[32m    218\u001b[39m         )\n\u001b[32m    219\u001b[39m     )\n\u001b[32m    220\u001b[39m \u001b[38;5;28;01melse\u001b[39;00m:\n\u001b[32m--> \u001b[39m\u001b[32m221\u001b[39m     \u001b[38;5;28;01mraise\u001b[39;00m FoyerError(\n\u001b[32m    222\u001b[39m         \u001b[33m\"\u001b[39m\u001b[33mFound no types for atom numbered \u001b[39m\u001b[38;5;132;01m{}\u001b[39;00m\u001b[33m which is atomic number \u001b[39m\u001b[38;5;132;01m{}\u001b[39;00m\u001b[33m. Forcefield file is missing this atomtype, so try to add SMARTS definitions to account for this atom.\u001b[39m\u001b[33m\"\u001b[39m.format(\n\u001b[32m    223\u001b[39m             atom_id, atoms[atom_id].atomic_number\n\u001b[32m    224\u001b[39m         )\n\u001b[32m    225\u001b[39m     )\n",
      "\u001b[31mFoyerError\u001b[39m: Found no types for atom numbered 0 which is atomic number 7. Forcefield file is missing this atomtype, so try to add SMARTS definitions to account for this atom."
     ]
    }
   ],
   "source": [
    "gmso_oplsaa = ForceField(\"oplsaa.xml\")\n",
    "gmso_topology = from_mbuild(comp)\n",
    "apply(top=gmso_topology, forcefields=gmso_oplsaa, identify_connections=True) "
   ]
  },
  {
   "cell_type": "markdown",
   "id": "0b744f74",
   "metadata": {},
   "source": [
    "_**Check the Order of Atoms**_"
   ]
  },
  {
   "cell_type": "code",
   "execution_count": 5,
   "id": "334242c3",
   "metadata": {},
   "outputs": [
    {
     "data": {
      "image/jpeg": "[encoded data removed]",
      "image/png": "[encoded data removed]",
      "text/plain": [
       "<PIL.PngImagePlugin.PngImageFile image mode=RGB size=300x300>"
      ]
     },
     "metadata": {},
     "output_type": "display_data"
    }
   ],
   "source": [
    "comp_rdkmol=comp.to_rdkit()\n",
    "img=Draw.MolToImage(comp_rdkmol)\n",
    "display(img)"
   ]
  },
  {
   "cell_type": "markdown",
   "id": "7ae824a2",
   "metadata": {},
   "source": [
    "_**Build the Structure of Single chain**_"
   ]
  },
  {
   "cell_type": "code",
   "execution_count": null,
   "id": "39bc35dd",
   "metadata": {},
   "outputs": [],
   "source": [
    "chain = Polymer()\n",
    "\n",
    "chain.add_monomer(compound=comp,\n",
    "                  indices=[16, 17],\n",
    "                  separation=.154,\n",
    "                  replace=True)\n",
    "chain.add_end_groups(mb.load('[H]N=P([H])(OCCC(=O)C=C)OCCC(=O)C=C',smiles=True), \n",
    "                     index=16,\n",
    "                     separation=0.154, label=\"head\", duplicate=False)\n",
    "\n",
    "chain.add_end_groups(mb.load('[H]N=P([H])(OCCC(=O)C=C)OCCC(=O)C=C',smiles=True), \n",
    "                     index=17,\n",
    "                     separation=0.154, label=\"tail\", duplicate=False)\n",
    "chain.build(n=20, sequence='A')\n",
    "chain.visualize(show_ports=True)\n"
   ]
  },
  {
   "cell_type": "code",
   "execution_count": null,
   "id": "67b90808",
   "metadata": {},
   "outputs": [],
   "source": [
    "chain.save('chain.pdb')"
   ]
  },
  {
   "cell_type": "markdown",
   "id": "d4b5a4df",
   "metadata": {},
   "source": [
    "_**Apply the Force Field to the Single Chain**_"
   ]
  },
  {
   "cell_type": "code",
   "execution_count": null,
   "metadata": {},
   "outputs": [],
   "source": [
    "gmso_oplsaa = ForceField(\"oplsaa.xml\")\n",
    "gmso_topology = from_mbuild(chain)\n",
    "apply(top=gmso_topology, forcefields=gmso_oplsaa, identify_connections=True) "
   ]
  },
  {
   "cell_type": "markdown",
   "id": "37995e00",
   "metadata": {},
   "source": [
    "_**Build the Structure of System Containing Several Chains**_"
   ]
  },
  {
   "cell_type": "code",
   "execution_count": null,
   "id": "6c1d941b",
   "metadata": {},
   "outputs": [],
   "source": [
    "# the pattern we generate puts points in the xy-plane, so we'll rotate the polymer\n",
    "# so that it is oriented normal to the xy-plane\n",
    "chain.rotate(np.pi/2, [1, 0, 0])\n",
    "\n",
    "# define a compound to hold all the polymers\n",
    "system = mb.Compound()\n",
    "\n",
    "# create a pattern of points to fill a disk\n",
    "# patterns are generated between 0 and 1,\n",
    "# and thus need to be scaled to provide appropriate spacing\n",
    "pattern_disk = mb.DiskPattern(50)\n",
    "pattern_disk.scale(5)\n",
    "\n",
    "# now clone the polymer and move it to the points in the pattern\n",
    "for pos in pattern_disk:\n",
    "    current_polymer = mb.clone(chain)\n",
    "    current_polymer.translate(pos)\n",
    "    system.add(current_polymer)\n",
    "\n",
    "system.visualize()\n"
   ]
  },
  {
   "cell_type": "code",
   "execution_count": null,
   "id": "34249385",
   "metadata": {},
   "outputs": [],
   "source": [
    "system.save('system.pdb')"
   ]
  },
  {
   "cell_type": "markdown",
   "id": "ee0cb20b",
   "metadata": {},
   "source": [
    "_**Apply the Force Field to the System**_"
   ]
  },
  {
   "cell_type": "code",
   "execution_count": null,
   "id": "f2a49bea",
   "metadata": {},
   "outputs": [],
   "source": [
    "gmso_oplsaa = ForceField(\"oplsaa.xml\")\n",
    "gmso_topology = from_mbuild(system)\n",
    "apply(top=gmso_topology, forcefields=gmso_oplsaa, identify_connections=True) "
   ]
  }
 ],
 "metadata": {
  "kernelspec": {
   "display_name": "mbuild_env",
   "language": "python",
   "name": "python3"
  },
  "language_info": {
   "codemirror_mode": {
    "name": "ipython",
    "version": 3
   },
   "file_extension": ".py",
   "mimetype": "text/x-python",
   "name": "python",
   "nbconvert_exporter": "python",
   "pygments_lexer": "ipython3",
   "version": "3.12.0"
  }
 },
 "nbformat": 4,
 "nbformat_minor": 5
}
